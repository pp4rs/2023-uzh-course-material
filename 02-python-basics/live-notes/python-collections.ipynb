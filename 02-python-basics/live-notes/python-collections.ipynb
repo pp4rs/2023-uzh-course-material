{
 "cells": [
  {
   "cell_type": "markdown",
   "id": "b170732d-17b8-472d-8fe9-80569a0a600b",
   "metadata": {},
   "source": [
    "## List"
   ]
  },
  {
   "cell_type": "code",
   "execution_count": 1,
   "id": "96f62e08-9a7d-42c5-a70a-9257f2d9af61",
   "metadata": {},
   "outputs": [],
   "source": [
    "empty_list = []"
   ]
  },
  {
   "cell_type": "code",
   "execution_count": 2,
   "id": "b1e96c94-d018-44e1-ac92-5134a345d9b6",
   "metadata": {},
   "outputs": [
    {
     "data": {
      "text/plain": [
       "[]"
      ]
     },
     "execution_count": 2,
     "metadata": {},
     "output_type": "execute_result"
    }
   ],
   "source": [
    "empty_list"
   ]
  },
  {
   "cell_type": "code",
   "execution_count": 3,
   "id": "b3a20b98-348f-4258-8696-6e614f007a1a",
   "metadata": {},
   "outputs": [
    {
     "data": {
      "text/plain": [
       "False"
      ]
     },
     "execution_count": 3,
     "metadata": {},
     "output_type": "execute_result"
    }
   ],
   "source": [
    "bool(empty_list)"
   ]
  },
  {
   "cell_type": "code",
   "execution_count": 4,
   "id": "27a0c764-174a-4d59-91d5-6543a6c430e8",
   "metadata": {},
   "outputs": [
    {
     "data": {
      "text/plain": [
       "True"
      ]
     },
     "execution_count": 4,
     "metadata": {},
     "output_type": "execute_result"
    }
   ],
   "source": [
    "bool([0])"
   ]
  },
  {
   "cell_type": "code",
   "execution_count": 5,
   "id": "3215007f-cd2c-4704-8f82-fcb393f425f9",
   "metadata": {},
   "outputs": [],
   "source": [
    "my_list = [1, 2, 3, 4, 5]"
   ]
  },
  {
   "cell_type": "code",
   "execution_count": 6,
   "id": "911973a3-27d2-4867-a0c0-e6defc1c2121",
   "metadata": {},
   "outputs": [
    {
     "name": "stdout",
     "output_type": "stream",
     "text": [
      "[1, 2, 3, 4, 5]\n"
     ]
    }
   ],
   "source": [
    "print(my_list)"
   ]
  },
  {
   "cell_type": "code",
   "execution_count": 14,
   "id": "37a0aa3e-780f-4099-aa1d-46fc945c9d57",
   "metadata": {},
   "outputs": [],
   "source": [
    "other_list = [1, 1.5, \"s\", [1, 2, 3]]"
   ]
  },
  {
   "cell_type": "code",
   "execution_count": 13,
   "id": "d7f5e802-6e69-4d2a-88fc-8f3113392a4e",
   "metadata": {},
   "outputs": [
    {
     "data": {
      "text/plain": [
       "str"
      ]
     },
     "execution_count": 13,
     "metadata": {},
     "output_type": "execute_result"
    }
   ],
   "source": [
    "type(other_list[2])"
   ]
  },
  {
   "cell_type": "code",
   "execution_count": 15,
   "id": "0fec663e-a0ee-47c6-8590-deca9322865c",
   "metadata": {},
   "outputs": [
    {
     "data": {
      "text/plain": [
       "[1, 1.5, 's', [1, 2, 3]]"
      ]
     },
     "execution_count": 15,
     "metadata": {},
     "output_type": "execute_result"
    }
   ],
   "source": [
    "other_list"
   ]
  },
  {
   "cell_type": "code",
   "execution_count": 17,
   "id": "8f7d5df1-8aea-4221-ad92-b76ae0271e70",
   "metadata": {},
   "outputs": [
    {
     "data": {
      "text/plain": [
       "2"
      ]
     },
     "execution_count": 17,
     "metadata": {},
     "output_type": "execute_result"
    }
   ],
   "source": [
    "other_list[3][1]"
   ]
  },
  {
   "cell_type": "code",
   "execution_count": 18,
   "id": "91f33726-e60e-4ac7-9eca-a1288dbd671e",
   "metadata": {},
   "outputs": [
    {
     "data": {
      "text/plain": [
       "[1, 2, 3, 4, 5]"
      ]
     },
     "execution_count": 18,
     "metadata": {},
     "output_type": "execute_result"
    }
   ],
   "source": [
    "my_list"
   ]
  },
  {
   "cell_type": "code",
   "execution_count": 19,
   "id": "7d6084a2-96fa-42dc-a7bd-009b3de5215f",
   "metadata": {},
   "outputs": [
    {
     "data": {
      "text/plain": [
       "[2, 3]"
      ]
     },
     "execution_count": 19,
     "metadata": {},
     "output_type": "execute_result"
    }
   ],
   "source": [
    "my_list[1:3]"
   ]
  },
  {
   "cell_type": "code",
   "execution_count": 20,
   "id": "eb4b2b0e-6035-4078-bdac-414016e153b7",
   "metadata": {},
   "outputs": [
    {
     "data": {
      "text/plain": [
       "[5, 4, 3, 2, 1]"
      ]
     },
     "execution_count": 20,
     "metadata": {},
     "output_type": "execute_result"
    }
   ],
   "source": [
    "my_list[::-1]"
   ]
  },
  {
   "cell_type": "code",
   "execution_count": 21,
   "id": "64bb32b6-1847-42f6-9b27-e3db1782dfbc",
   "metadata": {},
   "outputs": [
    {
     "data": {
      "text/plain": [
       "[1, 2, 3, 4, 5]"
      ]
     },
     "execution_count": 21,
     "metadata": {},
     "output_type": "execute_result"
    }
   ],
   "source": [
    "my_list"
   ]
  },
  {
   "cell_type": "code",
   "execution_count": 22,
   "id": "cd6892cf-c94f-4e1f-a2a0-139f72f59047",
   "metadata": {},
   "outputs": [
    {
     "data": {
      "text/plain": [
       "[[1, 2, 3, 4, 5], [1, 1.5, 's', [1, 2, 3]]]"
      ]
     },
     "execution_count": 22,
     "metadata": {},
     "output_type": "execute_result"
    }
   ],
   "source": [
    "[my_list, other_list]"
   ]
  },
  {
   "cell_type": "code",
   "execution_count": 23,
   "id": "49e8ba01-7ab2-48c2-9ed3-6295d938358c",
   "metadata": {},
   "outputs": [
    {
     "data": {
      "text/plain": [
       "[1, 2, 3, 4, 5, 1, 1.5, 's', [1, 2, 3]]"
      ]
     },
     "execution_count": 23,
     "metadata": {},
     "output_type": "execute_result"
    }
   ],
   "source": [
    "my_list + other_list"
   ]
  },
  {
   "cell_type": "code",
   "execution_count": 24,
   "id": "85fcb2a6-b6c8-47fa-b29d-29d1a84c6d95",
   "metadata": {},
   "outputs": [
    {
     "data": {
      "text/plain": [
       "[1, 2, 3, 4, 5, 1, 2, 3, 4, 5, 1, 2, 3, 4, 5]"
      ]
     },
     "execution_count": 24,
     "metadata": {},
     "output_type": "execute_result"
    }
   ],
   "source": [
    "my_list * 3"
   ]
  },
  {
   "cell_type": "code",
   "execution_count": 25,
   "id": "0de0903b-2b57-4f15-b895-ba6267355acb",
   "metadata": {},
   "outputs": [],
   "source": [
    "my_list.append(6)"
   ]
  },
  {
   "cell_type": "code",
   "execution_count": 26,
   "id": "623190a3-1e27-4d6c-9d55-9ebca39ecdab",
   "metadata": {},
   "outputs": [
    {
     "data": {
      "text/plain": [
       "[1, 2, 3, 4, 5, 6]"
      ]
     },
     "execution_count": 26,
     "metadata": {},
     "output_type": "execute_result"
    }
   ],
   "source": [
    "my_list"
   ]
  },
  {
   "cell_type": "code",
   "execution_count": 27,
   "id": "93246dff-45fd-46b8-8cc3-e37fc7e3ebfa",
   "metadata": {},
   "outputs": [
    {
     "data": {
      "text/plain": [
       "[1, 2, 3, 4, 5, 6, 7]"
      ]
     },
     "execution_count": 27,
     "metadata": {},
     "output_type": "execute_result"
    }
   ],
   "source": [
    "my_list + [7]"
   ]
  },
  {
   "cell_type": "code",
   "execution_count": 28,
   "id": "1d0586e6-fce7-4c8a-b23c-594989a64aae",
   "metadata": {},
   "outputs": [
    {
     "data": {
      "text/plain": [
       "[1, 2, 3, 4, 5, 6]"
      ]
     },
     "execution_count": 28,
     "metadata": {},
     "output_type": "execute_result"
    }
   ],
   "source": [
    "my_list"
   ]
  },
  {
   "cell_type": "code",
   "execution_count": 29,
   "id": "d8a2cfe6-de1f-44ad-9c6d-4aae6343c2c7",
   "metadata": {},
   "outputs": [],
   "source": [
    "my_list.insert(1, 1.5)"
   ]
  },
  {
   "cell_type": "code",
   "execution_count": 30,
   "id": "8d217175-460f-477e-8751-17c1bfa0076d",
   "metadata": {},
   "outputs": [
    {
     "data": {
      "text/plain": [
       "[1, 1.5, 2, 3, 4, 5, 6]"
      ]
     },
     "execution_count": 30,
     "metadata": {},
     "output_type": "execute_result"
    }
   ],
   "source": [
    "my_list"
   ]
  },
  {
   "cell_type": "code",
   "execution_count": 31,
   "id": "59f849b0-9d1d-4693-8ced-a4fff7e331fc",
   "metadata": {},
   "outputs": [],
   "source": [
    "my_list.extend([7, 8, 9])"
   ]
  },
  {
   "cell_type": "code",
   "execution_count": 32,
   "id": "551f941e-5056-472f-8a82-03aed21e2c9b",
   "metadata": {},
   "outputs": [
    {
     "data": {
      "text/plain": [
       "[1, 1.5, 2, 3, 4, 5, 6, 7, 8, 9]"
      ]
     },
     "execution_count": 32,
     "metadata": {},
     "output_type": "execute_result"
    }
   ],
   "source": [
    "my_list"
   ]
  },
  {
   "cell_type": "code",
   "execution_count": 33,
   "id": "277836cb-cb63-4ee3-9a1e-fa32b8d188ab",
   "metadata": {},
   "outputs": [],
   "source": [
    "my_list.append([10, 11, 12])"
   ]
  },
  {
   "cell_type": "code",
   "execution_count": 34,
   "id": "2b75c5a0-3dcc-4cac-8601-d1c1a939bfd1",
   "metadata": {},
   "outputs": [
    {
     "data": {
      "text/plain": [
       "[1, 1.5, 2, 3, 4, 5, 6, 7, 8, 9, [10, 11, 12]]"
      ]
     },
     "execution_count": 34,
     "metadata": {},
     "output_type": "execute_result"
    }
   ],
   "source": [
    "my_list"
   ]
  },
  {
   "cell_type": "code",
   "execution_count": 35,
   "id": "00d7c619-3652-46af-8505-c7f076e6f704",
   "metadata": {},
   "outputs": [],
   "source": [
    "my_list.extend(\"abc\")"
   ]
  },
  {
   "cell_type": "code",
   "execution_count": 36,
   "id": "da0e4410-9d44-481a-b17f-ef4ad6d161cb",
   "metadata": {},
   "outputs": [
    {
     "data": {
      "text/plain": [
       "[1, 1.5, 2, 3, 4, 5, 6, 7, 8, 9, [10, 11, 12], 'a', 'b', 'c']"
      ]
     },
     "execution_count": 36,
     "metadata": {},
     "output_type": "execute_result"
    }
   ],
   "source": [
    "my_list"
   ]
  },
  {
   "cell_type": "code",
   "execution_count": 37,
   "id": "97a09585-54d6-4ced-aa52-fb3bea74eda4",
   "metadata": {},
   "outputs": [
    {
     "ename": "TypeError",
     "evalue": "'int' object is not iterable",
     "output_type": "error",
     "traceback": [
      "\u001b[0;31m---------------------------------------------------------------------------\u001b[0m",
      "\u001b[0;31mTypeError\u001b[0m                                 Traceback (most recent call last)",
      "Input \u001b[0;32mIn [37]\u001b[0m, in \u001b[0;36m<cell line: 1>\u001b[0;34m()\u001b[0m\n\u001b[0;32m----> 1\u001b[0m \u001b[38;5;28;43mlist\u001b[39;49m\u001b[43m(\u001b[49m\u001b[38;5;241;43m74382\u001b[39;49m\u001b[43m)\u001b[49m\n",
      "\u001b[0;31mTypeError\u001b[0m: 'int' object is not iterable"
     ]
    }
   ],
   "source": [
    "list(74382)"
   ]
  },
  {
   "cell_type": "code",
   "execution_count": 38,
   "id": "71756fb0-6e20-4353-a486-280b2d400d54",
   "metadata": {},
   "outputs": [
    {
     "data": {
      "text/plain": [
       "['n', 'k', 'j', 's', 'd', 'f', 'h', 'b', 'i', 's', 'd']"
      ]
     },
     "execution_count": 38,
     "metadata": {},
     "output_type": "execute_result"
    }
   ],
   "source": [
    "list(\"nkjsdfhbisd\")"
   ]
  },
  {
   "cell_type": "code",
   "execution_count": 39,
   "id": "95d07ebb-b5f5-467e-b58a-d376db461c1c",
   "metadata": {},
   "outputs": [],
   "source": [
    "my_list.remove(1.5)"
   ]
  },
  {
   "cell_type": "code",
   "execution_count": 40,
   "id": "12039ef7-a107-458a-b54c-ddd490b9c27c",
   "metadata": {},
   "outputs": [
    {
     "data": {
      "text/plain": [
       "[1, 2, 3, 4, 5, 6, 7, 8, 9, [10, 11, 12], 'a', 'b', 'c']"
      ]
     },
     "execution_count": 40,
     "metadata": {},
     "output_type": "execute_result"
    }
   ],
   "source": [
    "my_list"
   ]
  },
  {
   "cell_type": "code",
   "execution_count": 41,
   "id": "b811d378-ea9a-4f0e-b4bd-7d26e04cf164",
   "metadata": {},
   "outputs": [],
   "source": [
    "del my_list[9]"
   ]
  },
  {
   "cell_type": "code",
   "execution_count": 42,
   "id": "03fba2b5-3c96-47b1-a8fe-d816cf24bf41",
   "metadata": {},
   "outputs": [
    {
     "data": {
      "text/plain": [
       "[1, 2, 3, 4, 5, 6, 7, 8, 9, 'a', 'b', 'c']"
      ]
     },
     "execution_count": 42,
     "metadata": {},
     "output_type": "execute_result"
    }
   ],
   "source": [
    "my_list"
   ]
  },
  {
   "cell_type": "code",
   "execution_count": 44,
   "id": "aa19a8b5-a4a2-4c26-89ce-6ef92a2f3a5c",
   "metadata": {},
   "outputs": [],
   "source": [
    "a = 1"
   ]
  },
  {
   "cell_type": "code",
   "execution_count": 45,
   "id": "7a37cde5-3c62-458e-b35e-2156c18ce49f",
   "metadata": {},
   "outputs": [],
   "source": [
    "del a"
   ]
  },
  {
   "cell_type": "code",
   "execution_count": 46,
   "id": "a9f14fa9-d775-47de-9fa0-a05a17a400d3",
   "metadata": {},
   "outputs": [
    {
     "ename": "NameError",
     "evalue": "name 'a' is not defined",
     "output_type": "error",
     "traceback": [
      "\u001b[0;31m---------------------------------------------------------------------------\u001b[0m",
      "\u001b[0;31mNameError\u001b[0m                                 Traceback (most recent call last)",
      "Input \u001b[0;32mIn [46]\u001b[0m, in \u001b[0;36m<cell line: 1>\u001b[0;34m()\u001b[0m\n\u001b[0;32m----> 1\u001b[0m \u001b[43ma\u001b[49m\n",
      "\u001b[0;31mNameError\u001b[0m: name 'a' is not defined"
     ]
    }
   ],
   "source": [
    "a"
   ]
  },
  {
   "cell_type": "code",
   "execution_count": 47,
   "id": "28aa8d87-614b-496f-bf47-0c81c14bd47e",
   "metadata": {},
   "outputs": [],
   "source": [
    "my_economists = [\"Hayek\", \"Keynes\", \"Acemoglu\"]"
   ]
  },
  {
   "cell_type": "code",
   "execution_count": 48,
   "id": "004f0879-5e1d-4344-ba12-05e2ea4ee37c",
   "metadata": {},
   "outputs": [],
   "source": [
    "my_economists[0] = \"Friedman\""
   ]
  },
  {
   "cell_type": "code",
   "execution_count": 49,
   "id": "55329a63-e7b8-4b5f-800c-82e65aa7c500",
   "metadata": {},
   "outputs": [
    {
     "data": {
      "text/plain": [
       "['Friedman', 'Keynes', 'Acemoglu']"
      ]
     },
     "execution_count": 49,
     "metadata": {},
     "output_type": "execute_result"
    }
   ],
   "source": [
    "my_economists"
   ]
  },
  {
   "cell_type": "markdown",
   "id": "c36b04fd-d4d8-4785-8477-04be6395c585",
   "metadata": {},
   "source": [
    "# Danger!!!!"
   ]
  },
  {
   "cell_type": "code",
   "execution_count": 50,
   "id": "8ada3249-6b0e-418d-903d-2b35536752dd",
   "metadata": {},
   "outputs": [],
   "source": [
    "first_list = [1, 2, 3, 4]\n",
    "second_list = first_list"
   ]
  },
  {
   "cell_type": "code",
   "execution_count": 51,
   "id": "9b875288-4d4e-421d-b0b4-713a9ec9a7bf",
   "metadata": {},
   "outputs": [
    {
     "data": {
      "text/plain": [
       "[1, 2, 3, 4]"
      ]
     },
     "execution_count": 51,
     "metadata": {},
     "output_type": "execute_result"
    }
   ],
   "source": [
    "second_list"
   ]
  },
  {
   "cell_type": "code",
   "execution_count": 52,
   "id": "75e2dca9-ef98-4ecf-b486-45009ad49297",
   "metadata": {},
   "outputs": [],
   "source": [
    "second_list.append(5)"
   ]
  },
  {
   "cell_type": "code",
   "execution_count": 53,
   "id": "111f102f-3bbb-42e0-b7e5-ce56a227cf37",
   "metadata": {},
   "outputs": [
    {
     "data": {
      "text/plain": [
       "[1, 2, 3, 4, 5]"
      ]
     },
     "execution_count": 53,
     "metadata": {},
     "output_type": "execute_result"
    }
   ],
   "source": [
    "second_list"
   ]
  },
  {
   "cell_type": "code",
   "execution_count": 54,
   "id": "51293aee-c4c0-4170-b628-cb01b40bd016",
   "metadata": {},
   "outputs": [
    {
     "data": {
      "text/plain": [
       "[1, 2, 3, 4, 5]"
      ]
     },
     "execution_count": 54,
     "metadata": {},
     "output_type": "execute_result"
    }
   ],
   "source": [
    "first_list"
   ]
  },
  {
   "cell_type": "code",
   "execution_count": 55,
   "id": "e0c92968-8af1-4899-ace8-5449c5a9518c",
   "metadata": {},
   "outputs": [
    {
     "data": {
      "text/plain": [
       "5"
      ]
     },
     "execution_count": 55,
     "metadata": {},
     "output_type": "execute_result"
    }
   ],
   "source": [
    "len(first_list)"
   ]
  },
  {
   "cell_type": "code",
   "execution_count": 56,
   "id": "0e50bc5d-7a79-4dab-8d99-8a402045ed91",
   "metadata": {},
   "outputs": [
    {
     "data": {
      "text/plain": [
       "1"
      ]
     },
     "execution_count": 56,
     "metadata": {},
     "output_type": "execute_result"
    }
   ],
   "source": [
    "first_list.count(2)"
   ]
  },
  {
   "cell_type": "code",
   "execution_count": 58,
   "id": "2cdf337f-b6a5-4bbf-8b4b-b4a46d9b8e98",
   "metadata": {},
   "outputs": [
    {
     "data": {
      "text/plain": [
       "3"
      ]
     },
     "execution_count": 58,
     "metadata": {},
     "output_type": "execute_result"
    }
   ],
   "source": [
    "first_list.index(4)"
   ]
  },
  {
   "cell_type": "code",
   "execution_count": 59,
   "id": "b2f19c57-48f4-4bbb-a86a-89905cdb0783",
   "metadata": {},
   "outputs": [],
   "source": [
    "third_list = [4, 2, 7, 5]"
   ]
  },
  {
   "cell_type": "code",
   "execution_count": 60,
   "id": "9300d389-be3f-4971-a710-98b45116ec30",
   "metadata": {},
   "outputs": [
    {
     "data": {
      "text/plain": [
       "[2, 4, 5, 7]"
      ]
     },
     "execution_count": 60,
     "metadata": {},
     "output_type": "execute_result"
    }
   ],
   "source": [
    "sorted(third_list)"
   ]
  },
  {
   "cell_type": "code",
   "execution_count": 61,
   "id": "590bcab6-7756-482e-9adc-25b822f65f79",
   "metadata": {},
   "outputs": [
    {
     "data": {
      "text/plain": [
       "[4, 2, 7, 5]"
      ]
     },
     "execution_count": 61,
     "metadata": {},
     "output_type": "execute_result"
    }
   ],
   "source": [
    "third_list"
   ]
  },
  {
   "cell_type": "code",
   "execution_count": 62,
   "id": "8acfb256-ccfd-4004-8c85-d4d2b2cd1d2a",
   "metadata": {},
   "outputs": [],
   "source": [
    "third_list.sort()"
   ]
  },
  {
   "cell_type": "code",
   "execution_count": 63,
   "id": "c71e20d8-4473-4354-8555-751ec312fa5c",
   "metadata": {},
   "outputs": [
    {
     "data": {
      "text/plain": [
       "[2, 4, 5, 7]"
      ]
     },
     "execution_count": 63,
     "metadata": {},
     "output_type": "execute_result"
    }
   ],
   "source": [
    "third_list"
   ]
  },
  {
   "cell_type": "code",
   "execution_count": 64,
   "id": "cc12c45a-56fe-43be-be3a-a54f921c8229",
   "metadata": {},
   "outputs": [],
   "source": [
    "third_list.reverse()"
   ]
  },
  {
   "cell_type": "code",
   "execution_count": 65,
   "id": "16ddf22c-fea6-4871-9960-a4cc1bfac778",
   "metadata": {},
   "outputs": [
    {
     "data": {
      "text/plain": [
       "[7, 5, 4, 2]"
      ]
     },
     "execution_count": 65,
     "metadata": {},
     "output_type": "execute_result"
    }
   ],
   "source": [
    "third_list"
   ]
  },
  {
   "cell_type": "markdown",
   "id": "cc1db38d-a75a-4781-922b-b53c76939a4a",
   "metadata": {},
   "source": [
    "## Membership"
   ]
  },
  {
   "cell_type": "code",
   "execution_count": 66,
   "id": "d7d54e98-e005-4851-b186-b7f816719c1b",
   "metadata": {},
   "outputs": [
    {
     "data": {
      "text/plain": [
       "False"
      ]
     },
     "execution_count": 66,
     "metadata": {},
     "output_type": "execute_result"
    }
   ],
   "source": [
    "\"Hayek\" in my_economists"
   ]
  },
  {
   "cell_type": "code",
   "execution_count": 67,
   "id": "c0e08e4f-c890-4c4a-ba4d-1111758ac5f0",
   "metadata": {},
   "outputs": [
    {
     "data": {
      "text/plain": [
       "True"
      ]
     },
     "execution_count": 67,
     "metadata": {},
     "output_type": "execute_result"
    }
   ],
   "source": [
    "\"Keynes\" in my_economists"
   ]
  },
  {
   "cell_type": "markdown",
   "id": "5ebc1fac-b2d6-4793-893e-0c7e4068e4c9",
   "metadata": {},
   "source": [
    "## Equality"
   ]
  },
  {
   "cell_type": "code",
   "execution_count": 68,
   "id": "2cb8fb7c-0888-4cb3-9476-986d9b782684",
   "metadata": {},
   "outputs": [],
   "source": [
    "list_1 = [1, 2, 3]\n",
    "list_2 = [1, 2, 3]"
   ]
  },
  {
   "cell_type": "code",
   "execution_count": 69,
   "id": "3d062dd3-5c6c-420a-bcf5-682e9b989fa4",
   "metadata": {},
   "outputs": [
    {
     "data": {
      "text/plain": [
       "True"
      ]
     },
     "execution_count": 69,
     "metadata": {},
     "output_type": "execute_result"
    }
   ],
   "source": [
    "list_1 == list_2"
   ]
  },
  {
   "cell_type": "code",
   "execution_count": 70,
   "id": "da8da19e-2301-4dfa-93d2-ce4a93767519",
   "metadata": {},
   "outputs": [
    {
     "data": {
      "text/plain": [
       "False"
      ]
     },
     "execution_count": 70,
     "metadata": {},
     "output_type": "execute_result"
    }
   ],
   "source": [
    "list_1 is list_2"
   ]
  },
  {
   "cell_type": "markdown",
   "id": "e1ca0088-404e-4223-b128-57639137a930",
   "metadata": {},
   "source": [
    "## Tuples"
   ]
  },
  {
   "cell_type": "code",
   "execution_count": 71,
   "id": "d18f0066-5074-4be6-8ff1-42c9ebad10df",
   "metadata": {},
   "outputs": [],
   "source": [
    "my_tuple = (1, 2, 3)"
   ]
  },
  {
   "cell_type": "code",
   "execution_count": 72,
   "id": "b156e859-5895-4169-896a-9857932520ec",
   "metadata": {},
   "outputs": [
    {
     "data": {
      "text/plain": [
       "(1, 2, 3)"
      ]
     },
     "execution_count": 72,
     "metadata": {},
     "output_type": "execute_result"
    }
   ],
   "source": [
    "my_tuple"
   ]
  },
  {
   "cell_type": "code",
   "execution_count": 74,
   "id": "192d446d-8649-4f07-a1b9-4a758c4f8251",
   "metadata": {},
   "outputs": [
    {
     "data": {
      "text/plain": [
       "(1, 1.5, 'a')"
      ]
     },
     "execution_count": 74,
     "metadata": {},
     "output_type": "execute_result"
    }
   ],
   "source": [
    "(1, 1.5, \"a\")"
   ]
  },
  {
   "cell_type": "code",
   "execution_count": 75,
   "id": "3befa5e4-bd6d-4335-b9a9-e2bbac1f12d7",
   "metadata": {},
   "outputs": [
    {
     "ename": "AttributeError",
     "evalue": "'tuple' object has no attribute 'append'",
     "output_type": "error",
     "traceback": [
      "\u001b[0;31m---------------------------------------------------------------------------\u001b[0m",
      "\u001b[0;31mAttributeError\u001b[0m                            Traceback (most recent call last)",
      "Input \u001b[0;32mIn [75]\u001b[0m, in \u001b[0;36m<cell line: 1>\u001b[0;34m()\u001b[0m\n\u001b[0;32m----> 1\u001b[0m \u001b[43mmy_tuple\u001b[49m\u001b[38;5;241;43m.\u001b[39;49m\u001b[43mappend\u001b[49m(\u001b[38;5;241m4\u001b[39m)\n",
      "\u001b[0;31mAttributeError\u001b[0m: 'tuple' object has no attribute 'append'"
     ]
    }
   ],
   "source": [
    "my_tuple.append(4)"
   ]
  },
  {
   "cell_type": "code",
   "execution_count": 76,
   "id": "6e3a137a-5217-47a5-b9e4-20a2eea95252",
   "metadata": {},
   "outputs": [
    {
     "ename": "TypeError",
     "evalue": "'type' object does not support item assignment",
     "output_type": "error",
     "traceback": [
      "\u001b[0;31m---------------------------------------------------------------------------\u001b[0m",
      "\u001b[0;31mTypeError\u001b[0m                                 Traceback (most recent call last)",
      "Input \u001b[0;32mIn [76]\u001b[0m, in \u001b[0;36m<cell line: 1>\u001b[0;34m()\u001b[0m\n\u001b[0;32m----> 1\u001b[0m \u001b[38;5;28mtuple\u001b[39m[\u001b[38;5;241m1\u001b[39m] \u001b[38;5;241m=\u001b[39m \u001b[38;5;124m\"\u001b[39m\u001b[38;5;124msomething\u001b[39m\u001b[38;5;124m\"\u001b[39m\n",
      "\u001b[0;31mTypeError\u001b[0m: 'type' object does not support item assignment"
     ]
    }
   ],
   "source": [
    "tuple[1] = \"something\""
   ]
  },
  {
   "cell_type": "code",
   "execution_count": 77,
   "id": "b02c52b8-0fe4-4856-a69a-c0df4e31e48f",
   "metadata": {},
   "outputs": [
    {
     "data": {
      "text/plain": [
       "(1, 2, 3)"
      ]
     },
     "execution_count": 77,
     "metadata": {},
     "output_type": "execute_result"
    }
   ],
   "source": [
    "tuple([1, 2, 3])"
   ]
  },
  {
   "cell_type": "code",
   "execution_count": 78,
   "id": "462e0c37-0920-43f4-9a42-9175b2909759",
   "metadata": {},
   "outputs": [
    {
     "data": {
      "text/plain": [
       "[1, 2, 3]"
      ]
     },
     "execution_count": 78,
     "metadata": {},
     "output_type": "execute_result"
    }
   ],
   "source": [
    "list((1, 2, 3))"
   ]
  },
  {
   "cell_type": "code",
   "execution_count": 79,
   "id": "4819fc55-2510-45a5-b283-ff136a14cf41",
   "metadata": {},
   "outputs": [
    {
     "data": {
      "text/plain": [
       "('a', 's', 'd', 'a', 's', 'd')"
      ]
     },
     "execution_count": 79,
     "metadata": {},
     "output_type": "execute_result"
    }
   ],
   "source": [
    "tuple(\"asdasd\")"
   ]
  },
  {
   "cell_type": "markdown",
   "id": "f8a02806-0cd6-4133-a13c-d789c1d4c277",
   "metadata": {},
   "source": [
    "## Dictionary"
   ]
  },
  {
   "cell_type": "code",
   "execution_count": 82,
   "id": "1a28f07c-4e33-446d-acd5-55a56ea3779f",
   "metadata": {},
   "outputs": [],
   "source": [
    "gpa_dict = {\"alice\": 4.0, \"bob\": 3.5, \"julius\": \":(\"}"
   ]
  },
  {
   "cell_type": "code",
   "execution_count": 83,
   "id": "b760bff3-2fe5-4f57-b6a9-3354ca43aabc",
   "metadata": {},
   "outputs": [
    {
     "data": {
      "text/plain": [
       "{'alice': 4.0, 'bob': 3.5, 'julius': ':('}"
      ]
     },
     "execution_count": 83,
     "metadata": {},
     "output_type": "execute_result"
    }
   ],
   "source": [
    "gpa_dict"
   ]
  },
  {
   "cell_type": "code",
   "execution_count": 84,
   "id": "be8734c5-25d0-4cd1-8936-bee1f5e005b7",
   "metadata": {},
   "outputs": [
    {
     "ename": "KeyError",
     "evalue": "0",
     "output_type": "error",
     "traceback": [
      "\u001b[0;31m---------------------------------------------------------------------------\u001b[0m",
      "\u001b[0;31mKeyError\u001b[0m                                  Traceback (most recent call last)",
      "Input \u001b[0;32mIn [84]\u001b[0m, in \u001b[0;36m<cell line: 1>\u001b[0;34m()\u001b[0m\n\u001b[0;32m----> 1\u001b[0m \u001b[43mgpa_dict\u001b[49m\u001b[43m[\u001b[49m\u001b[38;5;241;43m0\u001b[39;49m\u001b[43m]\u001b[49m\n",
      "\u001b[0;31mKeyError\u001b[0m: 0"
     ]
    }
   ],
   "source": [
    "gpa_dict[0]"
   ]
  },
  {
   "cell_type": "code",
   "execution_count": 85,
   "id": "8cd3a826-b731-476b-93ce-89c39bc6d7ba",
   "metadata": {},
   "outputs": [
    {
     "data": {
      "text/plain": [
       "3.5"
      ]
     },
     "execution_count": 85,
     "metadata": {},
     "output_type": "execute_result"
    }
   ],
   "source": [
    "gpa_dict[\"bob\"]"
   ]
  },
  {
   "cell_type": "code",
   "execution_count": 86,
   "id": "b384119e-19f5-4824-bc0b-cf0c0a813522",
   "metadata": {},
   "outputs": [
    {
     "data": {
      "text/plain": [
       "dict_values([4.0, 3.5, ':('])"
      ]
     },
     "execution_count": 86,
     "metadata": {},
     "output_type": "execute_result"
    }
   ],
   "source": [
    "gpa_dict.values()"
   ]
  },
  {
   "cell_type": "code",
   "execution_count": 87,
   "id": "ca46ff28-b555-4cc7-a090-3d6832c4396e",
   "metadata": {},
   "outputs": [
    {
     "data": {
      "text/plain": [
       "dict_keys(['alice', 'bob', 'julius'])"
      ]
     },
     "execution_count": 87,
     "metadata": {},
     "output_type": "execute_result"
    }
   ],
   "source": [
    "gpa_dict.keys()"
   ]
  },
  {
   "cell_type": "code",
   "execution_count": 88,
   "id": "8e7f4a43-0ac6-44fa-b7ca-84ff5f34fa9b",
   "metadata": {},
   "outputs": [
    {
     "data": {
      "text/plain": [
       "dict_items([('alice', 4.0), ('bob', 3.5), ('julius', ':(')])"
      ]
     },
     "execution_count": 88,
     "metadata": {},
     "output_type": "execute_result"
    }
   ],
   "source": [
    "gpa_dict.items()"
   ]
  },
  {
   "cell_type": "code",
   "execution_count": 90,
   "id": "9beae206-6aa9-43a1-85af-83ff7515191f",
   "metadata": {},
   "outputs": [],
   "source": [
    "gpa_dict[\"bob\"] = 2.5"
   ]
  },
  {
   "cell_type": "code",
   "execution_count": 91,
   "id": "ed0c379b-bac0-4e5a-ba22-e8188846c270",
   "metadata": {},
   "outputs": [],
   "source": [
    "gpa_dict[\"cecile\"] = 2"
   ]
  },
  {
   "cell_type": "code",
   "execution_count": 92,
   "id": "9c66eea1-9817-412e-a1a0-c93293201309",
   "metadata": {},
   "outputs": [
    {
     "data": {
      "text/plain": [
       "{'alice': 4.0, 'bob': 2.5, 'julius': ':(', 'cecile': 2}"
      ]
     },
     "execution_count": 92,
     "metadata": {},
     "output_type": "execute_result"
    }
   ],
   "source": [
    "gpa_dict"
   ]
  },
  {
   "cell_type": "code",
   "execution_count": 93,
   "id": "41d7e72d-75cf-4f29-abe2-d3c2e262d4e5",
   "metadata": {},
   "outputs": [
    {
     "data": {
      "text/plain": [
       "True"
      ]
     },
     "execution_count": 93,
     "metadata": {},
     "output_type": "execute_result"
    }
   ],
   "source": [
    "'bob' in gpa_dict"
   ]
  },
  {
   "cell_type": "code",
   "execution_count": 94,
   "id": "dcde54de-5830-4a7c-8bd2-60c1a7f747e9",
   "metadata": {},
   "outputs": [
    {
     "data": {
      "text/plain": [
       "True"
      ]
     },
     "execution_count": 94,
     "metadata": {},
     "output_type": "execute_result"
    }
   ],
   "source": [
    "2.5 in gpa_dict.values()"
   ]
  },
  {
   "cell_type": "code",
   "execution_count": 95,
   "id": "e887c4d7-ad32-4960-bbbb-000523c77d01",
   "metadata": {},
   "outputs": [
    {
     "ename": "KeyError",
     "evalue": "'daniel'",
     "output_type": "error",
     "traceback": [
      "\u001b[0;31m---------------------------------------------------------------------------\u001b[0m",
      "\u001b[0;31mKeyError\u001b[0m                                  Traceback (most recent call last)",
      "Input \u001b[0;32mIn [95]\u001b[0m, in \u001b[0;36m<cell line: 1>\u001b[0;34m()\u001b[0m\n\u001b[0;32m----> 1\u001b[0m \u001b[43mgpa_dict\u001b[49m\u001b[43m[\u001b[49m\u001b[38;5;124;43m\"\u001b[39;49m\u001b[38;5;124;43mdaniel\u001b[39;49m\u001b[38;5;124;43m\"\u001b[39;49m\u001b[43m]\u001b[49m\n",
      "\u001b[0;31mKeyError\u001b[0m: 'daniel'"
     ]
    }
   ],
   "source": [
    "gpa_dict[\"daniel\"]"
   ]
  },
  {
   "cell_type": "code",
   "execution_count": 98,
   "id": "93b2d41a-fc53-4d7e-a7e1-27dbf837e307",
   "metadata": {},
   "outputs": [
    {
     "data": {
      "text/plain": [
       "'N/A'"
      ]
     },
     "execution_count": 98,
     "metadata": {},
     "output_type": "execute_result"
    }
   ],
   "source": [
    "gpa_dict.get(\"daniel\", \"N/A\")"
   ]
  },
  {
   "cell_type": "code",
   "execution_count": 99,
   "id": "da62a9ff-4191-4d57-b1a7-2b7fc113ede5",
   "metadata": {},
   "outputs": [
    {
     "data": {
      "text/plain": [
       "2.5"
      ]
     },
     "execution_count": 99,
     "metadata": {},
     "output_type": "execute_result"
    }
   ],
   "source": [
    "gpa_dict.get(\"bob\", \"N/A\")"
   ]
  },
  {
   "cell_type": "code",
   "execution_count": 100,
   "id": "a9c0b081-ec2a-471a-89c9-a2393ef824b2",
   "metadata": {},
   "outputs": [],
   "source": [
    "gpa_dict_other = {\n",
    "    \"emlie\": 3,\n",
    "    \"frank\": 2\n",
    "}"
   ]
  },
  {
   "cell_type": "code",
   "execution_count": 102,
   "id": "bd57002f-1e0f-4772-99e2-27b78b828e00",
   "metadata": {},
   "outputs": [],
   "source": [
    "big_dict = gpa_dict | gpa_dict_other"
   ]
  },
  {
   "cell_type": "code",
   "execution_count": 103,
   "id": "aa3cbdcc-75a8-4cfb-801d-27daccdf67c1",
   "metadata": {},
   "outputs": [],
   "source": [
    "# gpa_dict.update is like list.extend"
   ]
  },
  {
   "cell_type": "code",
   "execution_count": 104,
   "id": "78f5c771-94b0-45ab-8c65-327924cc1fa5",
   "metadata": {},
   "outputs": [
    {
     "data": {
      "text/plain": [
       "2.5"
      ]
     },
     "execution_count": 104,
     "metadata": {},
     "output_type": "execute_result"
    }
   ],
   "source": [
    "gpa_dict.pop(\"bob\")"
   ]
  },
  {
   "cell_type": "code",
   "execution_count": 105,
   "id": "2e9bf8ad-44e0-4b90-865f-6622fedf5cd9",
   "metadata": {},
   "outputs": [
    {
     "data": {
      "text/plain": [
       "{'alice': 4.0, 'julius': ':(', 'cecile': 2}"
      ]
     },
     "execution_count": 105,
     "metadata": {},
     "output_type": "execute_result"
    }
   ],
   "source": [
    "gpa_dict"
   ]
  },
  {
   "cell_type": "code",
   "execution_count": 107,
   "id": "694c9716-88b7-49c3-b555-17fd07582752",
   "metadata": {},
   "outputs": [
    {
     "data": {
      "text/plain": [
       "('cecile', 2)"
      ]
     },
     "execution_count": 107,
     "metadata": {},
     "output_type": "execute_result"
    }
   ],
   "source": [
    "gpa_dict.popitem()"
   ]
  },
  {
   "cell_type": "code",
   "execution_count": 108,
   "id": "704cb568-64a5-4c4e-a268-3434e90d8585",
   "metadata": {},
   "outputs": [
    {
     "data": {
      "text/plain": [
       "{'alice': 4.0, 'julius': ':('}"
      ]
     },
     "execution_count": 108,
     "metadata": {},
     "output_type": "execute_result"
    }
   ],
   "source": [
    "gpa_dict"
   ]
  },
  {
   "cell_type": "markdown",
   "id": "c43060b2-b81b-4a53-acda-5868b807cdd0",
   "metadata": {},
   "source": [
    "## Set"
   ]
  },
  {
   "cell_type": "code",
   "execution_count": 109,
   "id": "36e551e4-218a-4950-9de5-888cdc638956",
   "metadata": {},
   "outputs": [],
   "source": [
    "my_set = {1, 2, 3, 4, 2, 3}"
   ]
  },
  {
   "cell_type": "code",
   "execution_count": 110,
   "id": "51837c3b-9093-4353-baad-a1e0173cf77a",
   "metadata": {},
   "outputs": [
    {
     "data": {
      "text/plain": [
       "{1, 2, 3, 4}"
      ]
     },
     "execution_count": 110,
     "metadata": {},
     "output_type": "execute_result"
    }
   ],
   "source": [
    "my_set"
   ]
  },
  {
   "cell_type": "code",
   "execution_count": 111,
   "id": "876df90d-7f86-48d1-b6ce-633e5a54c6e8",
   "metadata": {},
   "outputs": [],
   "source": [
    "my_set.add(5)"
   ]
  },
  {
   "cell_type": "code",
   "execution_count": 112,
   "id": "aa69de75-1cd3-4b8e-a4de-93d9b1bd0fa8",
   "metadata": {},
   "outputs": [
    {
     "data": {
      "text/plain": [
       "{1, 2, 3, 4, 5}"
      ]
     },
     "execution_count": 112,
     "metadata": {},
     "output_type": "execute_result"
    }
   ],
   "source": [
    "my_set"
   ]
  },
  {
   "cell_type": "code",
   "execution_count": 113,
   "id": "10e83af4-4401-442c-9f69-bf0adfa38ef2",
   "metadata": {},
   "outputs": [],
   "source": [
    "my_set.add(3)"
   ]
  },
  {
   "cell_type": "code",
   "execution_count": 114,
   "id": "9e1aefa9-9c7e-4d1d-aa9c-c433b2a38312",
   "metadata": {},
   "outputs": [
    {
     "data": {
      "text/plain": [
       "{1, 2, 3, 4, 5}"
      ]
     },
     "execution_count": 114,
     "metadata": {},
     "output_type": "execute_result"
    }
   ],
   "source": [
    "my_set"
   ]
  },
  {
   "cell_type": "code",
   "execution_count": 115,
   "id": "c8eac23a-0b49-4b11-ad31-0fec6c917e24",
   "metadata": {},
   "outputs": [],
   "source": [
    "other_set = {3, 4, 5, 6, 7}"
   ]
  },
  {
   "cell_type": "code",
   "execution_count": 116,
   "id": "18c440e9-aaca-43b8-9241-137abb98818a",
   "metadata": {},
   "outputs": [
    {
     "data": {
      "text/plain": [
       "{1, 2, 3, 4, 5, 6, 7}"
      ]
     },
     "execution_count": 116,
     "metadata": {},
     "output_type": "execute_result"
    }
   ],
   "source": [
    "my_set | other_set"
   ]
  },
  {
   "cell_type": "code",
   "execution_count": 117,
   "id": "f1e3ca4f-95f5-4ced-ac99-5a2542c13606",
   "metadata": {},
   "outputs": [
    {
     "data": {
      "text/plain": [
       "{1, 2, 6, 7}"
      ]
     },
     "execution_count": 117,
     "metadata": {},
     "output_type": "execute_result"
    }
   ],
   "source": [
    "my_set ^ other_set"
   ]
  },
  {
   "cell_type": "code",
   "execution_count": 118,
   "id": "3787632a-be76-45fb-b012-1a9733c7e480",
   "metadata": {},
   "outputs": [],
   "source": [
    "my_list = [1, 2, 1, 3, 5, 1, 2]"
   ]
  },
  {
   "cell_type": "code",
   "execution_count": 120,
   "id": "2b445cd0-0426-4272-8491-716050ec7cb6",
   "metadata": {},
   "outputs": [
    {
     "data": {
      "text/plain": [
       "[1, 2, 3, 5]"
      ]
     },
     "execution_count": 120,
     "metadata": {},
     "output_type": "execute_result"
    }
   ],
   "source": [
    "list(set(my_list))"
   ]
  },
  {
   "cell_type": "code",
   "execution_count": 121,
   "id": "d37747ad-94ef-4a96-bc23-dbdcf3bf8925",
   "metadata": {},
   "outputs": [],
   "source": [
    "my_string = \"This is a string\""
   ]
  },
  {
   "cell_type": "code",
   "execution_count": 125,
   "id": "747192be-055d-412d-bf40-3455747cbb85",
   "metadata": {},
   "outputs": [
    {
     "data": {
      "text/plain": [
       "'that is a string'"
      ]
     },
     "execution_count": 125,
     "metadata": {},
     "output_type": "execute_result"
    }
   ],
   "source": [
    "my_string.lower()\\\n",
    "         .replace(\"this\", \"that\")"
   ]
  },
  {
   "cell_type": "code",
   "execution_count": 129,
   "id": "768a0e98-3500-4dcd-b755-ad8db7ddd425",
   "metadata": {},
   "outputs": [],
   "source": [
    "list = [1, 2, 3, 4]"
   ]
  },
  {
   "cell_type": "code",
   "execution_count": 130,
   "id": "482c1e99-dd2d-43bc-bef0-21cfbd578235",
   "metadata": {},
   "outputs": [
    {
     "ename": "TypeError",
     "evalue": "'list' object is not callable",
     "output_type": "error",
     "traceback": [
      "\u001b[0;31m---------------------------------------------------------------------------\u001b[0m",
      "\u001b[0;31mTypeError\u001b[0m                                 Traceback (most recent call last)",
      "Input \u001b[0;32mIn [130]\u001b[0m, in \u001b[0;36m<cell line: 1>\u001b[0;34m()\u001b[0m\n\u001b[0;32m----> 1\u001b[0m \u001b[38;5;28;43mlist\u001b[39;49m\u001b[43m(\u001b[49m\u001b[38;5;124;43m\"\u001b[39;49m\u001b[38;5;124;43mascb\u001b[39;49m\u001b[38;5;124;43m\"\u001b[39;49m\u001b[43m)\u001b[49m\n",
      "\u001b[0;31mTypeError\u001b[0m: 'list' object is not callable"
     ]
    }
   ],
   "source": [
    "list(\"ascb\")"
   ]
  },
  {
   "cell_type": "code",
   "execution_count": null,
   "id": "78bd058a-f331-4c4f-9d7e-8630fa566cde",
   "metadata": {},
   "outputs": [],
   "source": []
  }
 ],
 "metadata": {
  "kernelspec": {
   "display_name": "Python 3 (ipykernel)",
   "language": "python",
   "name": "python3"
  },
  "language_info": {
   "codemirror_mode": {
    "name": "ipython",
    "version": 3
   },
   "file_extension": ".py",
   "mimetype": "text/x-python",
   "name": "python",
   "nbconvert_exporter": "python",
   "pygments_lexer": "ipython3",
   "version": "3.10.5"
  }
 },
 "nbformat": 4,
 "nbformat_minor": 5
}
