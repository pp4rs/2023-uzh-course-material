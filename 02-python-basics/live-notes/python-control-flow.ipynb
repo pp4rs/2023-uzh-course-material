{
 "cells": [
  {
   "cell_type": "markdown",
   "metadata": {},
   "source": [
    "## While"
   ]
  },
  {
   "cell_type": "code",
   "execution_count": 11,
   "metadata": {},
   "outputs": [
    {
     "name": "stdout",
     "output_type": "stream",
     "text": [
      "SOME STUFF\n"
     ]
    }
   ],
   "source": [
    "while True:\n",
    "    var = input(\"Write something to capitalise\")\n",
    "    if var == \"q\":\n",
    "        break\n",
    "    if len(var) == 4:\n",
    "        continue\n",
    "    print(var.upper())"
   ]
  },
  {
   "cell_type": "code",
   "execution_count": 1,
   "metadata": {},
   "outputs": [
    {
     "name": "stdout",
     "output_type": "stream",
     "text": [
      "item 1\n",
      "item 2\n",
      "item 3\n"
     ]
    }
   ],
   "source": [
    "my_list = [\"item 1\", \"item 2\", \"item 3\"]\n",
    "counter = 0\n",
    "while counter <= len(my_list) - 1:\n",
    "    print(my_list[counter])\n",
    "    counter += 1\n",
    "    if counter > 10000:\n",
    "        break"
   ]
  },
  {
   "cell_type": "markdown",
   "metadata": {},
   "source": [
    "## The better loop"
   ]
  },
  {
   "cell_type": "code",
   "execution_count": 2,
   "metadata": {},
   "outputs": [
    {
     "name": "stdout",
     "output_type": "stream",
     "text": [
      "Keynes\n",
      "Hayek\n",
      "Krugman\n"
     ]
    }
   ],
   "source": [
    "economists = [\"Keynes\", \"Hayek\", \"Krugman\"]\n",
    "for economist in economists:\n",
    "    print(economist)"
   ]
  },
  {
   "cell_type": "code",
   "execution_count": 3,
   "metadata": {},
   "outputs": [
    {
     "name": "stdout",
     "output_type": "stream",
     "text": [
      "W\n",
      "o\n",
      "r\n",
      "d\n"
     ]
    }
   ],
   "source": [
    "my_string = \"Word\"\n",
    "for letter in my_string:\n",
    "    print(letter)"
   ]
  },
  {
   "cell_type": "code",
   "execution_count": 5,
   "metadata": {},
   "outputs": [],
   "source": [
    "hayek = {\"name\" : \"Hayek\", \"nationality\": \"Austrian\"}"
   ]
  },
  {
   "cell_type": "code",
   "execution_count": 7,
   "metadata": {},
   "outputs": [
    {
     "name": "stdout",
     "output_type": "stream",
     "text": [
      "Hayek\n",
      "Austrian\n"
     ]
    }
   ],
   "source": [
    "for elem in hayek.values():\n",
    "    print(elem)"
   ]
  },
  {
   "cell_type": "code",
   "execution_count": 10,
   "metadata": {},
   "outputs": [
    {
     "name": "stdout",
     "output_type": "stream",
     "text": [
      "name - Hayek\n",
      "nationality - Austrian\n"
     ]
    }
   ],
   "source": [
    "for elem in hayek.items():\n",
    "    key, value = elem\n",
    "    print(key, \"-\", value)"
   ]
  },
  {
   "cell_type": "code",
   "execution_count": 11,
   "metadata": {},
   "outputs": [
    {
     "name": "stdout",
     "output_type": "stream",
     "text": [
      "name - Hayek\n",
      "nationality - Austrian\n"
     ]
    }
   ],
   "source": [
    "for key, value in hayek.items():\n",
    "    print(key, \"-\", value)"
   ]
  },
  {
   "cell_type": "code",
   "execution_count": 16,
   "metadata": {},
   "outputs": [
    {
     "name": "stdout",
     "output_type": "stream",
     "text": [
      "Keynes's favorite ice cream is chocolate\n",
      "Hayek's favorite ice cream is vanilla\n",
      "Krugman's favorite ice cream is cookies\n"
     ]
    }
   ],
   "source": [
    "economists = [\"Keynes\", \"Hayek\", \"Krugman\"]\n",
    "ice_creams = [\"chocolate\", \"vanilla\", \"cookies\", \"mango\"]\n",
    "\n",
    "list(zip(economists, ice_creams))\n",
    "\n",
    "for pair in zip(economists, ice_creams):\n",
    "    economist, ice_cream = pair\n",
    "    print(economist + \"'s favorite ice cream is\", ice_cream)"
   ]
  },
  {
   "cell_type": "code",
   "execution_count": 20,
   "metadata": {},
   "outputs": [
    {
     "name": "stdout",
     "output_type": "stream",
     "text": [
      "Keynes's favorite ice cream is chocolate\n",
      "Hayek's favorite ice cream is vanilla\n",
      "Krugman's favorite ice cream is cookies\n"
     ]
    },
    {
     "ename": "IndexError",
     "evalue": "list index out of range",
     "output_type": "error",
     "traceback": [
      "\u001b[0;31m---------------------------------------------------------------------------\u001b[0m",
      "\u001b[0;31mIndexError\u001b[0m                                Traceback (most recent call last)",
      "\u001b[1;32m/home/martin/pp4rs/playground/python-basics/python-control-flow.ipynb Cell 12\u001b[0m in \u001b[0;36m<cell line: 2>\u001b[0;34m()\u001b[0m\n\u001b[1;32m      <a href='vscode-notebook-cell://wsl%2Bubuntu/home/martin/pp4rs/playground/python-basics/python-control-flow.ipynb#X16sdnNjb2RlLXJlbW90ZQ%3D%3D?line=0'>1</a>\u001b[0m count \u001b[39m=\u001b[39m \u001b[39m0\u001b[39m\n\u001b[1;32m      <a href='vscode-notebook-cell://wsl%2Bubuntu/home/martin/pp4rs/playground/python-basics/python-control-flow.ipynb#X16sdnNjb2RlLXJlbW90ZQ%3D%3D?line=1'>2</a>\u001b[0m \u001b[39mfor\u001b[39;00m ice_cream \u001b[39min\u001b[39;00m ice_creams:\n\u001b[0;32m----> <a href='vscode-notebook-cell://wsl%2Bubuntu/home/martin/pp4rs/playground/python-basics/python-control-flow.ipynb#X16sdnNjb2RlLXJlbW90ZQ%3D%3D?line=2'>3</a>\u001b[0m     \u001b[39mprint\u001b[39m(economists[count] \u001b[39m+\u001b[39m \u001b[39m\"\u001b[39m\u001b[39m'\u001b[39m\u001b[39ms favorite ice cream is\u001b[39m\u001b[39m\"\u001b[39m, ice_cream)\n\u001b[1;32m      <a href='vscode-notebook-cell://wsl%2Bubuntu/home/martin/pp4rs/playground/python-basics/python-control-flow.ipynb#X16sdnNjb2RlLXJlbW90ZQ%3D%3D?line=3'>4</a>\u001b[0m     count \u001b[39m+\u001b[39m\u001b[39m=\u001b[39m \u001b[39m1\u001b[39m\n",
      "\u001b[0;31mIndexError\u001b[0m: list index out of range"
     ]
    }
   ],
   "source": [
    "count = 0\n",
    "for ice_cream in ice_creams:\n",
    "    print(economists[count] + \"'s favorite ice cream is\", ice_cream)\n",
    "    count += 1"
   ]
  },
  {
   "cell_type": "code",
   "execution_count": 22,
   "metadata": {},
   "outputs": [
    {
     "data": {
      "text/plain": [
       "[(0, 'Keynes'), (1, 'Hayek'), (2, 'Krugman')]"
      ]
     },
     "execution_count": 22,
     "metadata": {},
     "output_type": "execute_result"
    }
   ],
   "source": [
    "list(enumerate(economists))"
   ]
  },
  {
   "cell_type": "code",
   "execution_count": 23,
   "metadata": {},
   "outputs": [
    {
     "name": "stdout",
     "output_type": "stream",
     "text": [
      "Keynes's favorite ice cream is chocolate\n",
      "Hayek's favorite ice cream is vanilla\n",
      "Krugman's favorite ice cream is cookies\n"
     ]
    },
    {
     "ename": "IndexError",
     "evalue": "list index out of range",
     "output_type": "error",
     "traceback": [
      "\u001b[0;31m---------------------------------------------------------------------------\u001b[0m",
      "\u001b[0;31mIndexError\u001b[0m                                Traceback (most recent call last)",
      "\u001b[1;32m/home/martin/pp4rs/playground/python-basics/python-control-flow.ipynb Cell 14\u001b[0m in \u001b[0;36m<cell line: 2>\u001b[0;34m()\u001b[0m\n\u001b[1;32m      <a href='vscode-notebook-cell://wsl%2Bubuntu/home/martin/pp4rs/playground/python-basics/python-control-flow.ipynb#X21sdnNjb2RlLXJlbW90ZQ%3D%3D?line=0'>1</a>\u001b[0m count \u001b[39m=\u001b[39m \u001b[39m0\u001b[39m\n\u001b[1;32m      <a href='vscode-notebook-cell://wsl%2Bubuntu/home/martin/pp4rs/playground/python-basics/python-control-flow.ipynb#X21sdnNjb2RlLXJlbW90ZQ%3D%3D?line=1'>2</a>\u001b[0m \u001b[39mfor\u001b[39;00m i, ice_cream \u001b[39min\u001b[39;00m \u001b[39menumerate\u001b[39m(ice_creams):\n\u001b[0;32m----> <a href='vscode-notebook-cell://wsl%2Bubuntu/home/martin/pp4rs/playground/python-basics/python-control-flow.ipynb#X21sdnNjb2RlLXJlbW90ZQ%3D%3D?line=2'>3</a>\u001b[0m     \u001b[39mprint\u001b[39m(economists[i] \u001b[39m+\u001b[39m \u001b[39m\"\u001b[39m\u001b[39m'\u001b[39m\u001b[39ms favorite ice cream is\u001b[39m\u001b[39m\"\u001b[39m, ice_cream)\n",
      "\u001b[0;31mIndexError\u001b[0m: list index out of range"
     ]
    }
   ],
   "source": [
    "for i, ice_cream in enumerate(ice_creams):\n",
    "    print(economists[i] + \"'s favorite ice cream is\", ice_cream)"
   ]
  },
  {
   "cell_type": "code",
   "execution_count": 27,
   "metadata": {},
   "outputs": [
    {
     "data": {
      "text/plain": [
       "[3, 5, 7, 9]"
      ]
     },
     "execution_count": 27,
     "metadata": {},
     "output_type": "execute_result"
    }
   ],
   "source": [
    "list(range(3, 10, 2))"
   ]
  },
  {
   "cell_type": "code",
   "execution_count": 28,
   "metadata": {},
   "outputs": [
    {
     "name": "stdout",
     "output_type": "stream",
     "text": [
      "10\n",
      "13\n",
      "16\n",
      "19\n"
     ]
    }
   ],
   "source": [
    "for i in range(10, 21, 3):\n",
    "    print(i)"
   ]
  },
  {
   "cell_type": "markdown",
   "metadata": {},
   "source": [
    "## Comprehensions"
   ]
  },
  {
   "cell_type": "code",
   "execution_count": 41,
   "metadata": {},
   "outputs": [],
   "source": [
    "# List of first 5 even square numbers\n",
    "square_list = []\n",
    "for x in range(1, int(1e7)):\n",
    "    if x % 2 == 0:\n",
    "        square_list.append(x ** 2)\n",
    "\n",
    "# print(square_list)"
   ]
  },
  {
   "cell_type": "code",
   "execution_count": 42,
   "metadata": {},
   "outputs": [],
   "source": [
    "# [{list element} for {iterator variable} in {iterable}]\n",
    "square_list_2 = [x ** 2 for x in range(1, int(1e7)) if x % 2 == 0]\n",
    "# print(square_list_2)"
   ]
  },
  {
   "cell_type": "code",
   "execution_count": 43,
   "metadata": {},
   "outputs": [],
   "source": [
    "square_dict = {x: x ** 2 for x in range(1, int(1e7)) if x % 2 == 0}\n",
    "print(square_dict)"
   ]
  },
  {
   "cell_type": "code",
   "execution_count": null,
   "metadata": {},
   "outputs": [],
   "source": []
  }
 ],
 "metadata": {
  "kernelspec": {
   "display_name": "Python 3.10.5 ('pp4rs')",
   "language": "python",
   "name": "python3"
  },
  "language_info": {
   "codemirror_mode": {
    "name": "ipython",
    "version": 3
   },
   "file_extension": ".py",
   "mimetype": "text/x-python",
   "name": "python",
   "nbconvert_exporter": "python",
   "pygments_lexer": "ipython3",
   "version": "3.10.5"
  },
  "orig_nbformat": 4,
  "vscode": {
   "interpreter": {
    "hash": "204a59bdf7ab3655ff6dbdb363532740c60bcf276a7168fbd8477e399c47426b"
   }
  }
 },
 "nbformat": 4,
 "nbformat_minor": 2
}
