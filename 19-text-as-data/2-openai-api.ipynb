{
 "cells": [
  {
   "cell_type": "markdown",
   "metadata": {},
   "source": [
    "## OpenAI API\n"
   ]
  },
  {
   "cell_type": "markdown",
   "metadata": {},
   "source": [
    "Large language models (LLMs) enable us to solve complex language problems such as ratings or classification. They provide high quality responses, but are too large for ourselves to train and run. Luckily, we can access them very easily and cheaply via API calls. Here we will do the same topic classification we did with LDA, jsut with OpenAI's GPT3.5 Turbo model.\n",
    "\n",
    "We begin by loading the package and providing the API-key that is used to bill our request to our OpenAI Account. You can create an account on https://platform.openai.com/docs/overview. Then create a new project and generate an API-key. Paste this API key below."
   ]
  },
  {
   "cell_type": "code",
   "execution_count": 33,
   "metadata": {},
   "outputs": [],
   "source": [
    "from openai import OpenAI\n",
    "\n",
    "OPENAI_API_KEY = \"\" # key"
   ]
  },
  {
   "cell_type": "markdown",
   "metadata": {},
   "source": [
    "Now we specify which model we want to use. In this case GPT 3.5 Turbo. We also specify parameters guiding the model how random (temperature) its answers should be and how long the response should maximally be (max_tokens)."
   ]
  },
  {
   "cell_type": "code",
   "execution_count": 60,
   "metadata": {},
   "outputs": [],
   "source": [
    "kwargs = {'temperature':0.1,\n",
    "          'max_tokens':300,\n",
    "          'model':'gpt-3.5-turbo'}"
   ]
  },
  {
   "cell_type": "markdown",
   "metadata": {},
   "source": [
    "Then we specify the query we send to the API. The content message is a general priming of the model."
   ]
  },
  {
   "cell_type": "code",
   "execution_count": 61,
   "metadata": {},
   "outputs": [],
   "source": [
    "content_message = \"You are a helpful AI assistant.\"\n",
    "openai_query_framework = \"Give me topics for all these sentences. Explain your reasoning: {text}  Answer:\"\n",
    "text = \"\"\"\n",
    "    \"I love to eat pizza. Pizza is my favorite food.\",\n",
    "    \"The cat is playing with the ball.\",\n",
    "    \"I enjoy reading books on machine learning.\",\n",
    "    \"The dog is chasing the cat.\",\n",
    "    \"Pizza and pasta are popular Italian dishes.\" \n",
    "\"\"\""
   ]
  },
  {
   "cell_type": "markdown",
   "metadata": {},
   "source": [
    "Now we send our query and retrieve the response."
   ]
  },
  {
   "cell_type": "code",
   "execution_count": 62,
   "metadata": {},
   "outputs": [],
   "source": [
    "client = OpenAI(api_key=OPENAI_API_KEY)\n",
    "\n",
    "# ChatGPT\n",
    "kwargs['messages']=[{\"role\": \"system\", \"content\": content_message},\n",
    "                    {\"role\": \"user\", \"content\": openai_query_framework.format(text=text)},\n",
    "                ]\n",
    "response = client.chat.completions.create(**kwargs)"
   ]
  },
  {
   "cell_type": "code",
   "execution_count": 63,
   "metadata": {},
   "outputs": [
    {
     "name": "stdout",
     "output_type": "stream",
     "text": [
      "1. Topic: Food Preference\n",
      "   Reasoning: The sentences mention a love for pizza and it being a favorite food, indicating a topic related to food preferences.\n",
      "\n",
      "2. Topic: Pet Behavior\n",
      "   Reasoning: The sentences describe a cat playing with a ball and a dog chasing the cat, suggesting a topic related to pet behavior and interactions.\n",
      "\n",
      "3. Topic: Reading Preferences\n",
      "   Reasoning: The sentence mentions enjoying reading books on machine learning, indicating a topic related to reading preferences and specific interests in a subject.\n",
      "\n",
      "4. Topic: Animal Behavior\n",
      "   Reasoning: The sentences describe a dog chasing a cat, suggesting a topic related to animal behavior and interactions between different animals.\n",
      "\n",
      "5. Topic: Italian Cuisine\n",
      "   Reasoning: The sentences mention pizza and pasta as popular Italian dishes, indicating a topic related to Italian cuisine and food culture.\n"
     ]
    }
   ],
   "source": [
    "print(response.choices[0].message.content)"
   ]
  },
  {
   "cell_type": "code",
   "execution_count": null,
   "metadata": {},
   "outputs": [],
   "source": []
  }
 ],
 "metadata": {
  "kernelspec": {
   "display_name": "pp4rs",
   "language": "python",
   "name": "python3"
  },
  "language_info": {
   "codemirror_mode": {
    "name": "ipython",
    "version": 3
   },
   "file_extension": ".py",
   "mimetype": "text/x-python",
   "name": "python",
   "nbconvert_exporter": "python",
   "pygments_lexer": "ipython3",
   "version": "3.12.4"
  }
 },
 "nbformat": 4,
 "nbformat_minor": 2
}
