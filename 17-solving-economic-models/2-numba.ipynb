{
 "cells": [
  {
   "cell_type": "markdown",
   "metadata": {},
   "source": [
    "# **Numba**\n",
    "Numba is a library which can speed up computations, especially loops, enormously. We look at two use cases: just-in-time compilation and parallelization.\n",
    "\n",
    "## 1. **Just-In-Time (JIT) compilation**\n",
    "JIT means that a function you write in Python is not evaluated in its Python code. Rather, it is translated into very fast machine code the first time you run it ('compilation' step). Function calls are accelerated after you run it for the first time. This works well for Python functions using only base-Python or numpy code, especially if they contain loops. However, not all functions are JITable. Numba will throw an error upon execution in such cases.\n",
    "\n",
    "We JIT a function by including the decorator `@jit` in front of the function definition.\n",
    "\n",
    "Whenever we can JIT a loop, the speed of execution will be comparable to high-speed, vectorized calculations."
   ]
  },
  {
   "cell_type": "code",
   "execution_count": null,
   "metadata": {},
   "outputs": [],
   "source": [
    "from numba import jit\n",
    "import numpy as np\n",
    "import matplotlib.pyplot as plt "
   ]
  },
  {
   "cell_type": "markdown",
   "metadata": {},
   "source": [
    "**Example 1:** \n",
    "A function to sum the entries of a matrix."
   ]
  },
  {
   "cell_type": "code",
   "execution_count": null,
   "metadata": {},
   "outputs": [],
   "source": [
    "def sum2d_slow(arr):\n",
    "    M, N = arr.shape\n",
    "    result = 0.0\n",
    "    for i in range(M):\n",
    "        for j in range(N):\n",
    "            result += arr[i, j]\n",
    "    return result\n",
    "\n",
    "@jit(nopython=True)\n",
    "def sum2d(arr):\n",
    "    M, N = arr.shape\n",
    "    result = 0.0\n",
    "    for i in range(M):\n",
    "        for j in range(N):\n",
    "            result += arr[i, j]\n",
    "    return result\n",
    "\n",
    "arr = np.random.random((1000, 1000))\n",
    "print(sum2d(arr))"
   ]
  },
  {
   "cell_type": "code",
   "execution_count": null,
   "metadata": {},
   "outputs": [],
   "source": [
    "%timeit sum2d(arr)\n",
    "%timeit sum2d_slow(arr)"
   ]
  },
  {
   "cell_type": "markdown",
   "metadata": {},
   "source": [
    "**Example 2:** A function to calculate the nth entry of the Fibonacci sequence $x_n = x_{n-1} + x_{n-2}$ with $x_{1}, x_2 = 1$."
   ]
  },
  {
   "cell_type": "code",
   "execution_count": null,
   "metadata": {},
   "outputs": [],
   "source": [
    "@jit(nopython=True)\n",
    "def fibonacci(n):\n",
    "    if n <= 0:\n",
    "        return 0\n",
    "    elif n == 1:\n",
    "        return 1\n",
    "    else:\n",
    "        return fibonacci(n-1) + fibonacci(n-2)\n",
    "\n",
    "print(fibonacci(10))"
   ]
  },
  {
   "cell_type": "markdown",
   "metadata": {},
   "source": [
    "**Example 3:** A custom function to perform matrix multiplication."
   ]
  },
  {
   "cell_type": "code",
   "execution_count": null,
   "metadata": {},
   "outputs": [],
   "source": [
    "@jit(nopython=True)\n",
    "def matmul(A, B):\n",
    "    M, K = A.shape\n",
    "    K, N = B.shape\n",
    "    C = np.empty((M, N))\n",
    "    for i in range(M):\n",
    "        for j in range(N):\n",
    "            for k in range(K):\n",
    "                C[i, j] += A[i, k] * B[k, j]\n",
    "    return C\n",
    "\n",
    "A = np.random.random((5, 5))\n",
    "B = np.random.random((5, 5))\n",
    "print(matmul(A, B))"
   ]
  },
  {
   "cell_type": "markdown",
   "metadata": {},
   "source": [
    "**Exercise:** Time the functions in all examples and compare the runtime to a non-JIT'ed version."
   ]
  },
  {
   "cell_type": "markdown",
   "metadata": {},
   "source": [
    "## 2. **Parallelization**\n",
    "We can make use of out computers' ability to perform multiple calculations at the same time with `numba`, too. To parallelize loops, the following two simple steps are needed:\n",
    "\n",
    "1. The decorator becomes `@jit(nopython=True, parallel=True)`\n",
    "2. All loops to be parallelized are called with `prange` objects, instead of the familiar `range`.\n",
    "\n",
    "Parallelization works best in scenarios where tasks can be divided into independent units of work that can be executed concurrently without dependencies. This includes operations on large datasets, such as matrix multiplications, image processing, and simulations like Monte Carlo methods or random walks. It is particularly effective when the workload can be evenly distributed across multiple processors, minimizing the need for synchronization and communication between tasks. By leveraging parallelization, significant performance improvements can be achieved, especially in computationally intensive applications."
   ]
  },
  {
   "cell_type": "markdown",
   "metadata": {},
   "source": [
    "Here is an example for a parallelized matrix-multiplication:"
   ]
  },
  {
   "cell_type": "code",
   "execution_count": null,
   "metadata": {},
   "outputs": [],
   "source": [
    "from numba import prange\n",
    "\n",
    "@jit(nopython=True, parallel=True)\n",
    "def parallel_matmul(A, B):\n",
    "    M, K = A.shape\n",
    "    K, N = B.shape\n",
    "    C = np.zeros((M, N))\n",
    "    for i in prange(M):\n",
    "        for j in prange(N):\n",
    "            for k in range(K):\n",
    "                C[i, j] += A[i, k] * B[k, j]\n",
    "    return C\n",
    "\n",
    "A = np.random.random((5, 5))\n",
    "B = np.random.random((5, 5))\n",
    "print(parallel_matmul(A, B))"
   ]
  },
  {
   "cell_type": "code",
   "execution_count": null,
   "metadata": {},
   "outputs": [],
   "source": [
    "%timeit matmul(A, B)\n",
    "%timeit parallel_matmul(A, B)"
   ]
  },
  {
   "cell_type": "markdown",
   "metadata": {},
   "source": [
    "**Exercise:** Parallel simulation of a brownian motion.\n",
    "The formula for a Geometric Brownian Motion (GBM) is given by:\n",
    "\n",
    "$$ dS_t = \\mu S_t \\, dt + \\sigma S_t \\, dW_t $$\n",
    "\n",
    "where:\n",
    "- $S_t$ is the stock price at time $t$\n",
    "- $\\mu$ is the drift coefficient (expected return)\n",
    "- $\\sigma$ is the volatility coefficient (standard deviation of returns)\n",
    "- $dW_t$ is a Wiener process or Brownian motion\n",
    "\n",
    "In its discrete form, the GBM can be expressed as:\n",
    "\n",
    "$$ S_{t+\\Delta t} = S_t \\exp \\left( \\left( \\mu - \\frac{\\sigma^2}{2} \\right) \\Delta t + \\sigma \\sqrt{\\Delta t} \\, Z_t \\right) $$\n",
    "\n",
    "where:\n",
    "\n",
    "- $\\Delta t$ is the time increment\n",
    "- $Z_t$ is a standard normal random variable\n",
    "\n",
    "This formula is commonly used in financial mathematics to model stock prices and other financial instruments.\n",
    "\n",
    "Write a parallelized function `GBM_sim` which generates returns `N` brownian motion simulations of duration `T` each, and takes in the needed parameters. Which loops are easily parallelized and which are not?"
   ]
  },
  {
   "cell_type": "code",
   "execution_count": null,
   "metadata": {},
   "outputs": [],
   "source": [
    "@jit(nopython=True, parallel=True)\n",
    "def GBM_sim(S0, mu, sigma, deltaT, T, N):\n",
    "\n",
    "    deltaT_sqrt = deltaT**0.5 # pre-compute this guy \n",
    "    increments_num = int(np.floor(T/deltaT) + 1) # need integer number of increments\n",
    "    log_GBMs = np.empty((N,increments_num))\n",
    "\n",
    "    for n in prange(N):\n",
    "        log_GBMs[n, 0] = np.log(S0)\n",
    "        for i in range(1, increments_num):\n",
    "            log_GBMs[n, i] = log_GBMs[n, i-1] + (mu - sigma**2 / 2) * deltaT + sigma * deltaT_sqrt * np.random.normal()\n",
    "\n",
    "    GBMs = np.exp(log_GBMs)\n",
    "    return GBMs\n",
    "\n",
    "GBMs = GBM_sim(S0 = 1, mu = 0.08, sigma = 1, deltaT = 0.001, T = 1, N = 5)"
   ]
  },
  {
   "cell_type": "markdown",
   "metadata": {},
   "source": [
    "Let's plot some of these Brownian motions."
   ]
  },
  {
   "cell_type": "code",
   "execution_count": null,
   "metadata": {},
   "outputs": [],
   "source": [
    "# Define shades of dark grey and different linestyles\n",
    "colors = ['#2f2f2f', '#3f3f3f', '#4f4f4f', '#5f5f5f', '#6f6f6f', '#7f7f7f', '#8f8f8f', '#9f9f9f', '#afafaf', '#bfbfbf']\n",
    "linestyles = ['-', '--', '-.', ':', '-', '--', '-.', ':', '-', '--']\n",
    "\n",
    "for i in range(GBMs.shape[0]):\n",
    "    plt.plot(GBMs[i], color=colors[i % len(colors)], linestyle=linestyles[i % len(linestyles)])\n",
    "\n",
    "plt.ylabel(r'$S_t$')\n",
    "plt.xlabel(r't')\n",
    "plt.show()"
   ]
  },
  {
   "cell_type": "markdown",
   "metadata": {},
   "source": [
    "Let's time the function:"
   ]
  },
  {
   "cell_type": "code",
   "execution_count": null,
   "metadata": {},
   "outputs": [],
   "source": [
    "%%timeit\n",
    "GBM_sim(S0 = 1, mu = 0.08, sigma = 1, deltaT = 0.001, T = 1, N = 5000)"
   ]
  },
  {
   "cell_type": "markdown",
   "metadata": {},
   "source": [
    "**Exercise:** Write a function ```call_payout(price, strike)```, which gives you the value of a call option at maturity if the price of the underlying are given in `prices` and you have the right (but not the obligation) to buy the underlying for the strike price `strike`."
   ]
  },
  {
   "cell_type": "code",
   "execution_count": null,
   "metadata": {},
   "outputs": [],
   "source": [
    "def call_payout(prices, strike):\n",
    "    payout = (prices - strike)\n",
    "    payout[payout < 0] = 0\n",
    "    return payout"
   ]
  },
  {
   "cell_type": "markdown",
   "metadata": {},
   "source": [
    "**Exercise:** Write a function which simulates the mean expected payoffs of a call option on an asset initially priced at $S_0$ after $T$ periods. Simulate the function for `100_000` paths per GBM run, and across $\\sigma \\in \\{0.5, 1, 2\\}$"
   ]
  },
  {
   "cell_type": "code",
   "execution_count": null,
   "metadata": {},
   "outputs": [],
   "source": [
    "def sim_payoff(S0 = 1, mu = 0.08, sigma = 1, deltaT = 0.001, T = 1, N = 10000, discount_rate=0.03):\n",
    "    GBMs = GBM_sim(S0, mu, sigma, deltaT, T, N)\n",
    "    mean_payoff = call_payout(GBMs, 1.0).mean(axis=0)\n",
    "    mean_payoff = mean_payoff / (1+discount_rate*deltaT) ** np.arange(T/deltaT+1)\n",
    "    return mean_payoff\n",
    "\n",
    "mean_payoff = sim_payoff(S0 = 1, mu = 0.08, sigma = 0.5, deltaT = 0.001, T = 1, N = 100_000, discount_rate=0.08)\n",
    "mean_payoff = mean_payoff[:,np.newaxis]\n",
    "for i, sigma in enumerate((1., 2.)):\n",
    "    mean_payoff = np.append(mean_payoff, sim_payoff(S0 = 1, mu = 0.08, sigma = sigma, deltaT = 0.001, T = 1, N = 100_000, discount_rate=0.08)[:, np.newaxis], axis=1)"
   ]
  },
  {
   "cell_type": "code",
   "execution_count": null,
   "metadata": {},
   "outputs": [],
   "source": [
    "for i, sigma in enumerate((0.5, 1., 2.)):\n",
    "    plt.plot(np.linspace(0, 1, len(mean_payoff[:, i])), mean_payoff[:, i] , label = f\"$\\sigma = {sigma}$\")\n",
    "plt.ylabel(r'$E[payoff_t] * (1+r \\Delta t)^{-t/\\Delta t}$')\n",
    "plt.xlabel(r'Number of years, $t$')\n",
    "plt.legend()\n",
    "plt.show()"
   ]
  }
 ],
 "metadata": {
  "kernelspec": {
   "display_name": "pp4rs",
   "language": "python",
   "name": "python3"
  },
  "language_info": {
   "codemirror_mode": {
    "name": "ipython",
    "version": 3
   },
   "file_extension": ".py",
   "mimetype": "text/x-python",
   "name": "python",
   "nbconvert_exporter": "python",
   "pygments_lexer": "ipython3",
   "version": "3.10.11"
  }
 },
 "nbformat": 4,
 "nbformat_minor": 2
}
