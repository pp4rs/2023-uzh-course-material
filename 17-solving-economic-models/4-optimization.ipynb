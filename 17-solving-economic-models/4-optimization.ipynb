{
 "cells": [
  {
   "cell_type": "markdown",
   "metadata": {},
   "source": [
    "# **Introduction to Equation Solving & Optimization in Python**\n",
    "\n",
    "Python provides powerful tools and libraries for solving various types of equations, ranging from simple systems of linear equations to more complex polynomial and non-linear equations. This introduction will guide you through the basics of solving these equations using Python."
   ]
  },
  {
   "cell_type": "markdown",
   "metadata": {},
   "source": [
    "## 1. **Solving Systems of Linear Equations**\n",
    "\n",
    "A system of linear equations can be represented in matrix form as $Ax = b$, where:\n",
    "\n",
    "- $A$ is a matrix of coefficients,\n",
    "- $x$ is a vector of unknowns,\n",
    "- $b$ is a vector of constants.\n",
    "\n",
    "In Python, you can solve such systems using the `numpy` library:"
   ]
  },
  {
   "cell_type": "code",
   "execution_count": null,
   "metadata": {},
   "outputs": [],
   "source": [
    "import numpy as np\n",
    "\n",
    "# Coefficient matrix A\n",
    "A = np.array([[3, 1], [1, 2]])\n",
    "\n",
    "# Constant vector b\n",
    "b = np.array([9, 8])\n",
    "\n",
    "# Solving for x\n",
    "x = np.linalg.solve(A, b)\n",
    "\n",
    "print(x)"
   ]
  },
  {
   "cell_type": "markdown",
   "metadata": {},
   "source": [
    "**Exercises:**\n",
    "\n",
    "1. Write a function `fit` taking in a np.array `y` and a matrix `X` of conformable dimensions ($X\\in \\mathbb{R}^{n\\times k}$), such that it calculates the OLS estimator $\\hat{\\beta}(X)$, as well as the residual vector $\\epsilon$. Do not solve the normal equations with a matrix inverse, but use `np.linalg.solve`.\n",
    "2. Write a function `robust` which calculates the sandwich estimator: \n",
    "   \n",
    "$$n\\text{Var}(\\hat{\\beta})_{\\text{robust}} = (X'X)^{-1} \\left( \\sum_{i=1}^n X_i' \\hat{\\epsilon}_i^2 X_i \\right) (X'X)^{-1}$$\n",
    "\n",
    "3. Write a `class` called `olsmodel` which holds `y` and `X`, and which contains methods `fit`, `robust` and `predict`"
   ]
  },
  {
   "cell_type": "markdown",
   "metadata": {},
   "source": [
    "**Solution**"
   ]
  },
  {
   "cell_type": "code",
   "execution_count": null,
   "metadata": {},
   "outputs": [],
   "source": [
    "def sim_some_data(size, ncov):\n",
    "    X = np.random.normal(size=(size, ncov))\n",
    "    beta = np.random.randint(-5,5, size = ncov)\n",
    "    X[:, 0] = 1\n",
    "    y = X @ beta + np.random.normal(loc=0, scale=ncov, size=size) \n",
    "    return y, X, beta \n",
    "\n",
    "y, X, beta = sim_some_data(100_000, 100)\n",
    "\n",
    "def fit(y, X):\n",
    "    beta_hat = np.linalg.solve( X.T @ X, X.T @ y )\n",
    "    resid = y - X @ beta_hat\n",
    "    return beta_hat, resid\n",
    "\n",
    "beta_hat, resid = fit(y, X)\n",
    "\n",
    "# import matplotlib.pyplot as plt\n",
    "# plt.scatter(beta, beta_hat)\n",
    "# plt.title(\"Coefficient plot\")\n",
    "# plt.xlabel(r\"$\\beta$\")\n",
    "# plt.ylabel(r\"$\\hat \\beta$\")\n",
    "# plt.show()"
   ]
  },
  {
   "cell_type": "code",
   "execution_count": null,
   "metadata": {},
   "outputs": [],
   "source": [
    "from numba import njit\n",
    "\n",
    "@njit\n",
    "def robust(X, resid):\n",
    "    k = X.shape[1]\n",
    "    n = X.shape[0]\n",
    "    sum = np.zeros((k, k))\n",
    "    for i in range(n): # we prefer using a loop over using residuals on a diagonal matrix, so we don't have to instantiate a NxN matrix \n",
    "        sum = sum + np.outer(X[i, :],  X[i, :]) * (resid[i]**2)\n",
    "\n",
    "    XpX_inv = np.linalg.inv(X.T @ X)\n",
    "\n",
    "    sw = (XpX_inv @ sum @ XpX_inv)\n",
    "    return sw\n",
    "\n",
    "_ = robust(X, resid)\n",
    "\n",
    "## Or an alternative version using no matrix inversion:\n",
    "@njit\n",
    "def robust_linalg(X, resid):\n",
    "    k = X.shape[1]\n",
    "    n = X.shape[0]\n",
    "    sum = np.zeros((k, k))\n",
    "    for i in range(n): # we prefer using a loop over using residuals on a diagonal matrix, so we don't have to instantiate a NxN matrix \n",
    "        sum = sum + np.outer(X[i, :],  X[i, :]) * (resid[i]**2)\n",
    "\n",
    "    XpX = X.T @ X\n",
    "\n",
    "    # steps:\n",
    "    # XpX @ sw @ XpX = sum\n",
    "    sw_XpX = np.linalg.solve(XpX , sum)\n",
    "\n",
    "    # steps:\n",
    "    # sw @ XpX = sw_XpX\n",
    "    # XpX.T @ sw.T = sw_XpX.T\n",
    "    sw_T = np.linalg.solve(XpX.T, sw_XpX.T) # transpose of sandwich sw (but sw is diagonal)\n",
    "\n",
    "    return sw_T\n",
    "\n",
    "_ = robust_linalg(X, resid) # compile function and throw result away"
   ]
  },
  {
   "cell_type": "code",
   "execution_count": null,
   "metadata": {},
   "outputs": [],
   "source": [
    "%timeit robust(X, resid)\n",
    "%timeit robust_linalg(X, resid)"
   ]
  },
  {
   "cell_type": "markdown",
   "metadata": {},
   "source": [
    "## 2. **Finding Roots of Polynomial Equations**\n",
    "\n",
    "For polynomial equations, Python’s `numpy` library offers straightforward methods to find roots. For example, to solve a polynomial equation like $ax^2 + bx + c = 0$. \n",
    "This code computes the roots of the quadratic equation $x^2 - 3x + 2 = 0$, which are the values of $x$ that satisfy the equation.\n"
   ]
  },
  {
   "cell_type": "code",
   "execution_count": null,
   "metadata": {},
   "outputs": [],
   "source": [
    "coefficients = [1, -3, 2]  # Coefficients of x^2 - 3x + 2\n",
    "roots = np.roots(coefficients)\n",
    "\n",
    "print(roots)"
   ]
  },
  {
   "cell_type": "markdown",
   "metadata": {},
   "source": [
    "**Exercise:** Write a function `IRR` to calculate the internal rate of return of a payment stream. The function takes as arguments a stream of future payments $x_1,...,x_n$ and an initial payment $C_0$, and finds the roots of the equation $$ C_0 = \\sum_i x_i (1+r)^{-i}.$$\n",
    "It then checks which of the roots $\\{r_1,...,r_n\\}$ are real, and picks among those the internal rate of return. Does the function work well for large $n$?"
   ]
  },
  {
   "cell_type": "code",
   "execution_count": null,
   "metadata": {},
   "outputs": [],
   "source": [
    "C_0 = 100  # Initial investment\n",
    "x = np.array([20, 26, 40, 55])  # Cash flows, the last payment comes last in this sequence\n",
    "\n",
    "def IRR(C_0, x):\n",
    "    # Reverse the cash flows array to match the polynomial root finding convention\n",
    "    x = np.flip(x)\n",
    "    \n",
    "    # Create the coefficients array for the polynomial equation\n",
    "    coefficients = np.concatenate([x, [-C_0]])\n",
    "    \n",
    "    # Find the roots of the polynomial equation\n",
    "    roots = np.roots(coefficients)\n",
    "    \n",
    "    # Filter out the complex roots, keep only real roots\n",
    "    is_real_solution = np.real(roots) == roots\n",
    "    roots = roots[is_real_solution]\n",
    "    roots = np.real(roots)\n",
    "    \n",
    "    # Calculate IRR candidates from the real roots\n",
    "    IRR_candidates = roots**(-1) - 1\n",
    "    \n",
    "    # Filter out IRR candidates that are greater than -1\n",
    "    IRR = IRR_candidates[IRR_candidates > -1]\n",
    "    \n",
    "    # Return the IRR if there is a unique solution, otherwise print a message\n",
    "    if IRR.size == 1:\n",
    "        return IRR[0]\n",
    "    else:\n",
    "        print(\"non-unique IRR\")\n",
    "\n",
    "# Call the IRR function with the initial investment and cash flows\n",
    "IRR(C_0, x)"
   ]
  },
  {
   "cell_type": "markdown",
   "metadata": {},
   "source": [
    "## 3. **Newton Methods for General Non-Linear Equations**\n",
    "We now try to understand Newton's workhorse optimization routine."
   ]
  },
  {
   "cell_type": "markdown",
   "metadata": {},
   "source": [
    "### Newton's Method\n",
    "\n",
    "#### 1. **Basic Idea**\n",
    "\n",
    "Newton's method iteratively approximates the root of a function using the following update rule:\n",
    "\n",
    "$$ x_{n+1} = x_n - \\frac{f(x_n)}{f'(x_n)} $$\n",
    "\n",
    "where:\n",
    "\n",
    "- $x_n$ is the current estimate of the root.\n",
    "- $f'(x_n)$ is the derivative (or Jacobian, in the multivariate case) of $f(x)$ at $x_n$.\n",
    "\n",
    "#### 2. **Algorithm**\n",
    "\n",
    "1. **Start with an initial guess** $x_0$.\n",
    "2. **Compute the function value** $f(x_n)$ and its derivative $f'(x_n)$.\n",
    "3. **Update the estimate** using the formula $x_{n+1} = x_n - \\frac{f(x_n)}{f'(x_n)}$.\n",
    "4. **Repeat** until the change in $x$ is smaller than a specified tolerance, or the function value $f(x_n)$ is sufficiently close to zero."
   ]
  },
  {
   "cell_type": "markdown",
   "metadata": {},
   "source": [
    "**Exercise:** With pen and paper, prove that Newton's method converges in one step for any linear equation $Ax = b$"
   ]
  },
  {
   "cell_type": "code",
   "execution_count": null,
   "metadata": {},
   "outputs": [],
   "source": [
    "from scipy.optimize import fsolve\n",
    "\n",
    "# varaible intercept for equation below\n",
    "interc = 5\n",
    "\n",
    "def equation(x, interc):\n",
    "    return x**3 - x + interc\n",
    "\n",
    "print(\"roots found by numpy:\", np.roots([1, 0, -1, + interc]))\n",
    "\n",
    "initial_guess = -2\n",
    "x_root, fsolve_dict, code, info = fsolve(equation, initial_guess, args=(interc), full_output=True)\n",
    "print(fsolve_dict)\n",
    "\n",
    "plt.plot(np.linspace(-3, 3, 100),equation(np.linspace(-3, 3, 100), interc))\n",
    "plt.axhline(0, color='red', linestyle='--', label='y=0')  # Add horizontal line at y=0\n",
    "plt.scatter(x_root, equation(x_root, interc))\n",
    "plt.xlabel('x')\n",
    "plt.ylabel('y')\n",
    "plt.title('Plot of the Equation with Horizontal Line at y=0')\n",
    "plt.legend()\n",
    "plt.grid(True)\n",
    "plt.show()\n",
    "\n",
    "print(\"Note that the fsolve routine gets stuck for initial values in the region (-1, 1).\")"
   ]
  },
  {
   "cell_type": "markdown",
   "metadata": {},
   "source": [
    "Let's write a multivariate Newton solver able to solve equations of type $F(x)=0, \\; F: \\mathbb{R}^n \\rightarrow \\mathbb{R}^n$. The solver should take as inputs a funtion to solve, `f`, a vector `x0` as a starting point, and a tolerance level `tol` for convergence, as well as a `maxiter` number of iterations after which it stops the solution process.\n",
    "We proceed in a few steps, in particular, first we need a method to obtain the jacobian, `Jf` at an arbitrary point:"
   ]
  },
  {
   "cell_type": "code",
   "execution_count": null,
   "metadata": {},
   "outputs": [],
   "source": [
    "# example function I\n",
    "def f(x):\n",
    "    return np.array([\n",
    "        x[0]**2 - 2 + 4*x[1], \n",
    "        - x[1] + x[0]**5\n",
    "    ])\n",
    "x0 = np.array([1., 1.])\n",
    "\n",
    "# # example function II\n",
    "# def f(x):\n",
    "#     return np.array([\n",
    "#         x[0]**2, \n",
    "#         x[1]**5\n",
    "#     ])\n",
    "# x0 = np.array([1., 1.])\n",
    "\n",
    "# # example function III\n",
    "# def f(x):\n",
    "#     return np.array([\n",
    "#         x[0]**2\n",
    "#     ])\n",
    "# x0 = np.array([1.])\n",
    "\n",
    "f(x0)"
   ]
  },
  {
   "cell_type": "code",
   "execution_count": null,
   "metadata": {},
   "outputs": [],
   "source": [
    "# run-off-the-mill method to calculate a jacobian numerically\n",
    "def jacobian(f, x0):\n",
    "\n",
    "    x0 = np.array(x0, dtype='float64') \n",
    "\n",
    "    fx0 = f(x0)\n",
    "    M, N = *fx0.shape, *x0.shape\n",
    "    Jf = np.empty((M, N))\n",
    "    epsilon = 1E-8\n",
    " \n",
    "    for i in range(N):\n",
    "        x_eps = x0.copy()\n",
    "        x_eps[i] += epsilon\n",
    "        Jf[i, :] = (f(x_eps) - fx0) / epsilon\n",
    "\n",
    "    return Jf\n",
    "\n",
    "# test the function\n",
    "jacobian(f, x0)"
   ]
  },
  {
   "cell_type": "code",
   "execution_count": null,
   "metadata": {},
   "outputs": [],
   "source": [
    "# newton solver\n",
    "def newton(f, x0, tol = 1E-12, maxiter=1_000):\n",
    "    \n",
    "    x_old = x0\n",
    "    x_new = x_old.copy()\n",
    "    Jf = jacobian(f, x_old)\n",
    "    \n",
    "    for i in range(maxiter):\n",
    "        \n",
    "        x_old = x_new.copy()\n",
    "        f_old = f(x_new)\n",
    "        if np.all( np.abs(f_old) < tol ) :\n",
    "            print(f\"convergence achieved after {i} iterations\")\n",
    "            return x_new, f_old, Jf\n",
    "\n",
    "        Jf = jacobian(f, x_old)\n",
    "        #print(f_old)\n",
    "        x_new = x_old - np.linalg.inv(Jf) @ f_old\n",
    "\n",
    "    print(\"convergence not achieved\")\n",
    "    return x_old, f_old, Jf"
   ]
  },
  {
   "cell_type": "code",
   "execution_count": null,
   "metadata": {},
   "outputs": [],
   "source": [
    "# it works!\n",
    "newton(f, x0, maxiter=10_000)"
   ]
  },
  {
   "cell_type": "markdown",
   "metadata": {},
   "source": [
    "**Exercise:** Secant Method\n",
    "\n",
    "The Secant method is a derivative-free variation of Newton's method. Instead of using the exact derivative $f'(x)$, it approximates the derivative using two recent points:\n",
    "\n",
    "$$\n",
    "x_{n+1} = x_n - f(x_n) \\frac{x_n - x_{n-1}}{f(x_n) - f(x_{n-1})}\n",
    "$$\n",
    "\n",
    "- **Advantages**: Does not require computing derivatives, which can be advantageous when the derivative is difficult to calculate.\n",
    "- **Disadvantages**: Typically converges more slowly than Newton's method.\n",
    "\n",
    "Write a univariate root solver `secant_newton` in the spirit of the `newton` solver we just developed, which uses the secant method. \n"
   ]
  },
  {
   "cell_type": "markdown",
   "metadata": {},
   "source": [
    "## 4. **Application: Optimal Life-Time Consumption**\n",
    "Let's use the solver we just wrote to solve a class of simple optimal consumption problems. In $T$ periods, an agent can decide to save or consume, given an initial endowment $\\omega$ and some income $y_t$, which varies every period.\n",
    "\n",
    "$$\n",
    " U = \\sum_{0\\leq t \\leq T-1} \\beta^t \\log(c_t), \\text{  s.t.  } a_{t+1} = y_t + a_t*(1+r) - c_t,\\; a_{-1} = \\omega,\\; a_{T} \\geq 0 \n",
    "$$\n",
    "\n",
    "Giving us FOCs:\n",
    "$$\n",
    "\\begin{equation*}\n",
    "    f_0(\\omega, a_0, a_1) = 0, \n",
    "\\end{equation*}\n",
    "$$\n",
    "\n",
    "$$\n",
    "\\begin{equation*}\n",
    "    f_t(a_{t-1}, a_t, a_{t+1}) \\equiv \\beta (1+r) ( y_{t-1} + a_{t-1}(1+r) - a_t ) - ( y_t + a_t(1+r) -a_{t+1}) = 0 ,\\; \\forall 1 \\leq t \\leq T-2 \n",
    "\\end{equation*}\n",
    "$$\n",
    "\n",
    "$$\n",
    "\\begin{equation*}\n",
    "    f_{T-2}(a_{T-2}, a_{T-1}, 0) =0 \n",
    "\\end{equation*}\n",
    "$$\n",
    "\n",
    "to solve simultaneously by choosing $a_0, ..., a_{T-1}$. We could do this in a recursive way, but lets attack the FOCs directly."
   ]
  },
  {
   "cell_type": "code",
   "execution_count": null,
   "metadata": {},
   "outputs": [],
   "source": [
    "beta = 0.98\n",
    "r = 1/beta - 1\n",
    "omega = 5\n",
    "\n",
    "# y has T elements \n",
    "y = np.full(10, 1)\n",
    "\n",
    "# a_choice has T elements \n",
    "a_choice = np.full(10, 0)\n",
    "\n",
    "def F(beta, r, omega, y, a_choice):\n",
    "\n",
    "    a = np.zeros((1+len(y))) # accommodate initial and terminal condition\n",
    "    a[0:-1] = a_choice\n",
    "\n",
    "    F = np.zeros(len(y))\n",
    "    F[0] = beta*(1+r) * ( 0 + omega * (1+r) - a[0] ) - ( y[0] + a[0]*(1+r) - a[1] )\n",
    "\n",
    "    for t in range(1, len(F)):\n",
    "        F[t] = beta*(1+r) * ( y[t-1] + a[t-1] * (1+r) - a[t] ) - ( y[t] + a[t]*(1+r) - a[t+1] )\n",
    "\n",
    "    return F"
   ]
  },
  {
   "cell_type": "code",
   "execution_count": null,
   "metadata": {},
   "outputs": [],
   "source": [
    "F(beta, r, omega, y, a_choice)"
   ]
  },
  {
   "cell_type": "code",
   "execution_count": null,
   "metadata": {},
   "outputs": [],
   "source": [
    "# try the function\n",
    "print(\"F =\", f\"{F(beta, r, omega, y, a_choice)}\")\n",
    "\n",
    "# Does it jacobe? Yes, it does!\n",
    "J = jacobian(lambda a_choice : F(beta, r, omega, y, a_choice), a_choice)\n",
    "\n",
    "assert np.linalg.det(J) != 0 # check that the jacobian is not ill conditioned"
   ]
  },
  {
   "cell_type": "markdown",
   "metadata": {},
   "source": [
    "Let's try whether this works out, and whether our solver can find a sequence of assets $a = (a_0, ..., a_{T-1})$ to solve the first order conditions:"
   ]
  },
  {
   "cell_type": "code",
   "execution_count": null,
   "metadata": {},
   "outputs": [],
   "source": [
    "a_choices, F_values, _ = newton(lambda a_choice : F(beta, r, omega, y, a_choice), a_choice, maxiter=10_000)"
   ]
  },
  {
   "cell_type": "markdown",
   "metadata": {},
   "source": [
    "Indeed, we have solved the consumption-savings problem with the output of our Newton-solver. Let's plot these results in a figure."
   ]
  },
  {
   "cell_type": "code",
   "execution_count": null,
   "metadata": {},
   "outputs": [],
   "source": [
    "import matplotlib.pyplot as plt\n",
    "\n",
    "# Plot the asset path\n",
    "plt.figure(figsize=(5, 3))\n",
    "plt.plot(a_choices, marker='o', linestyle='-', color='b', markersize=5, linewidth=1)\n",
    "plt.title('Asset Path in Consumption-Savings Problem', fontsize=16)\n",
    "plt.xlabel('Time Period', fontsize=14)\n",
    "plt.ylabel('Assets', fontsize=14)\n",
    "plt.grid(True, which='both', linestyle='--', linewidth=0.5)\n",
    "plt.axhline(0, color='black', linewidth=0.5)\n",
    "plt.axvline(0, color='black', linewidth=0.5)\n",
    "plt.tight_layout()\n",
    "plt.show()"
   ]
  },
  {
   "cell_type": "markdown",
   "metadata": {},
   "source": [
    "**Looks great!**"
   ]
  },
  {
   "cell_type": "markdown",
   "metadata": {},
   "source": [
    "### A Consumption-Savings Class\n",
    "Now let's go all in and package the problem nicely. We write a class `ConSavProb` which takes as inputs `beta, r, y, omega` and an initial guess for `a`. It has a `solve` method, which solves for the optimal asset and consumption path.\n",
    "\n",
    "\n",
    "Packaging the consumption-savings problem into a class, in this case `ConSavProb`, offers several benefits:\n",
    "\n",
    "1. **Modularity**: By encapsulating the problem within a class, we can organize related variables and functions together. This improves code organization and makes it easier to understand and maintain. It also allows us to reuse the class in different parts of our code or even in other projects.\n",
    "\n",
    "2. **Abstraction**: Instead of exposing all the inner workings of the consumption-savings problem, we can provide a clean interface through class methods. \n",
    "\n",
    "3. **Encapsulation**: Classes allow us to encapsulate data and methods together. This means that the variables and functions related to the consumption-savings problem are contained within the class, reducing the chances of naming conflicts with other parts of the codebase. It also provides a clear boundary for the problem, making it easier to reason about and test.\n",
    "\n",
    "4. **Code Reusability**: Once we have defined the `ConSavProb` class, we can create multiple instances of it with different input parameters.\n",
    "\n",
    "5. **Readability**: Using a class can improve the readability of the code. \n",
    "\n",
    "Overall, using a class to package the consumption-savings problem provides a clean, modular, and reusable solution that enhances code organization, abstraction, and readability."
   ]
  },
  {
   "cell_type": "code",
   "execution_count": null,
   "metadata": {},
   "outputs": [],
   "source": [
    "class ConSavProb:\n",
    "    \"\"\"\n",
    "    A class representing a consumption-savings problem.\n",
    "\n",
    "    Attributes:\n",
    "        beta (float): The discount factor.\n",
    "        r (float): The interest rate.\n",
    "        y (float): The income.\n",
    "        omega (float): The initial endowment.\n",
    "        asset_path (numpy.ndarray): The path of assets over time.\n",
    "        a_guess (float): The initial guess for assets.\n",
    "        euler_error (float): The Euler equation error.\n",
    "        solved (bool): Indicates whether the problem has been solved.\n",
    "\n",
    "    Methods:\n",
    "        update_parameters: Update the parameters of the problem.\n",
    "        solve_asset_path: Solve the consumption-savings problem and compute the asset path.\n",
    "        plot_asset_path: Plot the asset path.\n",
    "\n",
    "    \"\"\"\n",
    "\n",
    "    def __init__(self, beta, r, y, omega):\n",
    "        \"\"\"\n",
    "        Initialize a ConSavProb object.\n",
    "\n",
    "        Args:\n",
    "            beta (float): The discount factor.\n",
    "            r (float): The interest rate.\n",
    "            y (float): The income.\n",
    "            omega (float): The probability of receiving income.\n",
    "\n",
    "        \"\"\"\n",
    "        self.beta = beta\n",
    "        self.r = r\n",
    "        self.y = y\n",
    "        self.omega = omega\n",
    "        self.asset_path = None\n",
    "        self.euler_error = None\n",
    "        self.solved = False\n",
    "\n",
    "    def update_parameters(self, beta=None, r=None, y=None, omega=None):\n",
    "        \"\"\"\n",
    "        Update the parameters of the problem.\n",
    "\n",
    "        Args:\n",
    "            beta (float, optional): The discount factor.\n",
    "            r (float, optional): The interest rate.\n",
    "            y (float, optional): The income.\n",
    "            omega (float, optional): The probability of receiving income.\n",
    "\n",
    "        \"\"\"\n",
    "        if beta is not None:\n",
    "            self.beta = beta\n",
    "        if r is not None:\n",
    "            self.r = r\n",
    "        if y is not None:\n",
    "            self.y = y\n",
    "        if omega is not None:\n",
    "            self.omega = omega\n",
    "\n",
    "    def solve_asset_path(self, a_guess=None):\n",
    "        \"\"\"\n",
    "        Solve the consumption-savings problem and compute the asset path.\n",
    "\n",
    "        Args:\n",
    "            a_guess (float): The initial guess for assets.\n",
    "\n",
    "        \"\"\"\n",
    "        if a_guess is None:\n",
    "            a_guess = np.zeros(len(self.y))\n",
    "                        \n",
    "        # solve\n",
    "        self.asset_path, self.euler_error, _ = newton(self.FOC, a_guess, maxiter=10_000)\n",
    "        self.solved = True\n",
    "\n",
    "    def FOC(self, a_choice):\n",
    "        beta, r, omega, y = self.beta, self.r, self.omega, self.y  # unpack the parameters\n",
    "        a = np.zeros((1+len(y))) # accommodate initial and terminal condition\n",
    "        a[0:-1] = a_choice\n",
    "\n",
    "        F = np.zeros(len(y))\n",
    "        F[0] = beta*(1+r) * ( 0 + omega * (1+r) - a[0] ) - ( y[0] + a[0]*(1+r) - a[1] )\n",
    "\n",
    "        for t in range(1, len(F)):\n",
    "            F[t] = beta*(1+r) * ( y[t-1] + a[t-1] * (1+r) - a[t] ) - ( y[t] + a[t]*(1+r) - a[t+1] )\n",
    "\n",
    "        return F\n",
    "\n",
    "    def plot_asset_path(self, figsize=(10, 6)):\n",
    "        \"\"\"\n",
    "        Plot the asset path.\n",
    "\n",
    "        Args:\n",
    "            figsize (tuple, optional): The figure size. Defaults to (10, 6).\n",
    "\n",
    "        \"\"\"\n",
    "        if self.solved == True:\n",
    "            # Plot the asset path\n",
    "            plt.figure(figsize=figsize)\n",
    "            plt.plot(np.concatenate([self.asset_path, [0.]]), marker='o', linestyle='-', color='b', markersize=5,\n",
    "                     linewidth=1)\n",
    "            plt.title('Asset Path in Consumption-Savings Problem')\n",
    "            plt.xlabel('Time Period')\n",
    "            plt.ylabel('Assets')\n",
    "            plt.grid(True, which='both', linestyle='--', linewidth=0.5)\n",
    "            plt.axhline(0, color='black', linewidth=0.5)\n",
    "            plt.axvline(0, color='black', linewidth=0.5)\n",
    "            plt.tight_layout()\n",
    "            plt.show()"
   ]
  },
  {
   "cell_type": "code",
   "execution_count": null,
   "metadata": {},
   "outputs": [],
   "source": [
    "model = ConSavProb(beta, r, y, omega)\n",
    "model.solve_asset_path(a_guess = np.full(10, 0))\n",
    "\n",
    "model.plot_asset_path(figsize=(7, 4))\n"
   ]
  },
  {
   "cell_type": "code",
   "execution_count": null,
   "metadata": {},
   "outputs": [],
   "source": [
    "model.update_parameters(beta = 0.85)\n",
    "model.solve_asset_path(model.asset_path)\n",
    "model.plot_asset_path(figsize=(7, 4))"
   ]
  },
  {
   "cell_type": "markdown",
   "metadata": {},
   "source": [
    "What, if income were decreasing from $6$ to $1$ over time, and we had $T=20$ periods instead?"
   ]
  },
  {
   "cell_type": "code",
   "execution_count": null,
   "metadata": {},
   "outputs": [],
   "source": [
    "model.update_parameters(y = np.linspace(6,0, 25), beta = 0.85)\n",
    "model.solve_asset_path()\n",
    "model.plot_asset_path(figsize=(7, 4))\n"
   ]
  },
  {
   "cell_type": "markdown",
   "metadata": {},
   "source": [
    "## 3. The **`scipy` Library for Solving and Optimization**\n",
    "For more complex equations, including non-linear systems, Python’s `scipy` library provides powerful tools. "
   ]
  },
  {
   "cell_type": "markdown",
   "metadata": {},
   "source": [
    "### 1. Basic Usage of `scipy.optimize`\n",
    "\n",
    "#### Example: Finding the Minimum of a Function\n",
    "\n"
   ]
  },
  {
   "cell_type": "code",
   "execution_count": null,
   "metadata": {},
   "outputs": [],
   "source": [
    "import numpy as np\n",
    "from scipy.optimize import minimize\n",
    "\n",
    "# Define the function to minimize\n",
    "def f(x):\n",
    "    return x**2 + 5*np.sin(x)\n",
    "\n",
    "# Initial guess\n",
    "x0 = 2.0\n",
    "\n",
    "# Perform the minimization\n",
    "result = minimize(f, x0)\n",
    "\n",
    "print(\"Minimum value:\", result.fun)\n",
    "print(\"At x =\", result.x)"
   ]
  },
  {
   "cell_type": "markdown",
   "metadata": {},
   "source": [
    "\n",
    "\n",
    "### 2. Solving a System of Linear Equations\n",
    "\n",
    "#### Example: Using `scipy.linalg.solve`\n",
    "\n"
   ]
  },
  {
   "cell_type": "code",
   "execution_count": null,
   "metadata": {},
   "outputs": [],
   "source": [
    "import numpy as np\n",
    "from scipy.linalg import solve\n",
    "\n",
    "# Coefficient matrix\n",
    "A = np.array([[3, 2], [1, 2]])\n",
    "\n",
    "# Right-hand side vector\n",
    "b = np.array([2, 0])\n",
    "\n",
    "# Solve the system\n",
    "x = solve(A, b)\n",
    "\n",
    "print(\"Solution:\", x)"
   ]
  },
  {
   "cell_type": "markdown",
   "metadata": {},
   "source": [
    "\n",
    "\n",
    "### 3. Integration using `scipy.integrate`\n",
    "\n",
    "#### Example: Numerical Integration with `quad`\n",
    "\n"
   ]
  },
  {
   "cell_type": "code",
   "execution_count": null,
   "metadata": {},
   "outputs": [],
   "source": [
    "from scipy.integrate import quad\n",
    "\n",
    "# Define the function to integrate\n",
    "def f(x):\n",
    "    return np.exp(-x**2)\n",
    "\n",
    "# Perform the integration\n",
    "result, error = quad(f, 0, 1)\n",
    "\n",
    "print(\"Integral result:\", result)\n",
    "print(\"Estimated error:\", error)"
   ]
  },
  {
   "cell_type": "markdown",
   "metadata": {},
   "source": [
    "\n",
    "\n",
    "### 4. Interpolation using `scipy.interpolate`\n",
    "\n",
    "#### Example: 1D Interpolation with `interp1d`\n",
    "\n"
   ]
  },
  {
   "cell_type": "code",
   "execution_count": null,
   "metadata": {},
   "outputs": [],
   "source": [
    "import numpy as np\n",
    "import matplotlib.pyplot as plt\n",
    "from scipy.interpolate import interp1d\n",
    "\n",
    "# Sample data points\n",
    "x = np.linspace(0, 10, 10)\n",
    "y = np.sin(x)\n",
    "\n",
    "# Create the interpolating function\n",
    "f = interp1d(x, y, kind='cubic')\n",
    "\n",
    "# Interpolated values\n",
    "x_new = np.linspace(0, 10, 100)\n",
    "y_new = f(x_new)\n",
    "\n",
    "# Plot the results\n",
    "plt.plot(x, y, 'o', label='data points')\n",
    "plt.plot(x_new, y_new, '-', label='cubic interpolation')\n",
    "plt.legend()\n",
    "plt.show()"
   ]
  },
  {
   "cell_type": "markdown",
   "metadata": {},
   "source": [
    "\n",
    "\n",
    "These examples should give you a good starting point for using `scipy` in various scientific and technical computing tasks."
   ]
  }
 ],
 "metadata": {
  "kernelspec": {
   "display_name": "pp4rs",
   "language": "python",
   "name": "python3"
  },
  "language_info": {
   "codemirror_mode": {
    "name": "ipython",
    "version": 3
   },
   "file_extension": ".py",
   "mimetype": "text/x-python",
   "name": "python",
   "nbconvert_exporter": "python",
   "pygments_lexer": "ipython3",
   "version": "3.10.11"
  }
 },
 "nbformat": 4,
 "nbformat_minor": 2
}
