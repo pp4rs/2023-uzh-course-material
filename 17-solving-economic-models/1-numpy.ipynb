{
 "cells": [
  {
   "cell_type": "markdown",
   "metadata": {},
   "source": [
    "# **Numpy Basics**\n",
    "To get started, install `numpy` using `pip` or `conda` package managers, or make sure that you have a recent version of numpy in your active Python environment."
   ]
  },
  {
   "cell_type": "code",
   "execution_count": null,
   "metadata": {},
   "outputs": [],
   "source": [
    "# as usual, import the module\n",
    "import numpy as np # np is the standard name of numpy"
   ]
  },
  {
   "cell_type": "markdown",
   "metadata": {},
   "source": [
    "## 1. **Arrays**\n",
    "The fundamental object in numpy are numpy arrays, `np.array`s. They are iterable objects which behave much like lists. They can have many dimensions. Create an array as follows. "
   ]
  },
  {
   "cell_type": "code",
   "execution_count": null,
   "metadata": {},
   "outputs": [],
   "source": [
    "a = np.array([1, 2, 3]) # create a numpy array from a list\n",
    "A = np.array([[1, 2, 3], [4, 5, 6]]) # create a 2-d array from a list with two lists\n",
    "print(\"a = \", a, '\\n', \"A = \", A, sep=\"\") # extra bit of python: sep argument in print function defines the separating string"
   ]
  },
  {
   "cell_type": "markdown",
   "metadata": {},
   "source": [
    "You cannot create numpy arrays from *any* kind of list. If your list contains integers and floats, integers will be 'up-cast' to the float datatype. If your list contains string, all else will be up-cast to string. What if it contains another datatype, like a list? Brace for an error."
   ]
  },
  {
   "cell_type": "code",
   "execution_count": null,
   "metadata": {},
   "outputs": [],
   "source": [
    "print(\"an up-cast array to float: \", np.array([1.2, 1, 3]))\n",
    "print(\"an up-cast array to str: \", np.array(['1.2', 1, 3]))\n",
    "\n",
    "#print(\"something illegal: \", np.array([1, 2, 3, [1, 2]]) ) # this will throw an error"
   ]
  },
  {
   "cell_type": "markdown",
   "metadata": {},
   "source": [
    "**Exercise:** Use the 'dtype' argument to save the list `[1.9, 1, 3]` as a numpy array consisting of str/float/int/bool. What do you notice in the `int`-case? In the `bool`-case?"
   ]
  },
  {
   "cell_type": "code",
   "execution_count": null,
   "metadata": {},
   "outputs": [],
   "source": [
    "print(\"Begin with list: \", [1.9, 1, 3])\n",
    "print(\"forced data-type to str: \", np.array([1.9, 1, 3], dtype=int))\n",
    "print(\"forced data-type to int: \", np.array([1.9, 1, 3], dtype=str))\n",
    "print(\"forced data-type to int: \", np.array([1.9, 1, 3], dtype=bool))"
   ]
  },
  {
   "cell_type": "markdown",
   "metadata": {},
   "source": [
    "***For Reference: Data Types***\n",
    "\n",
    "| Data type\t    | Description |\n",
    "|---------------|-------------|\n",
    "| ``bool_``     | Boolean (True or False) stored as a byte |\n",
    "| ``int_``      | Default integer type (same as C ``long``; normally either ``int64`` or ``int32``)| \n",
    "| ``intc``      | Identical to C ``int`` (normally ``int32`` or ``int64``)| \n",
    "| ``intp``      | Integer used for indexing (same as C ``ssize_t``; normally either ``int32`` or ``int64``)| \n",
    "| ``int8``      | Byte (-128 to 127)| \n",
    "| ``int16``     | Integer (-32768 to 32767)|\n",
    "| ``int32``     | Integer (-2147483648 to 2147483647)|\n",
    "| ``int64``     | Integer (-9223372036854775808 to 9223372036854775807)| \n",
    "| ``uint8``     | Unsigned integer (0 to 255)| \n",
    "| ``uint16``    | Unsigned integer (0 to 65535)| \n",
    "| ``uint32``    | Unsigned integer (0 to 4294967295)| \n",
    "| ``uint64``    | Unsigned integer (0 to 18446744073709551615)| \n",
    "| ``float_``    | Shorthand for ``float64``.| \n",
    "| ``float16``   | Half precision float: sign bit, 5 bits exponent, 10 bits mantissa| \n",
    "| ``float32``   | Single precision float: sign bit, 8 bits exponent, 23 bits mantissa| \n",
    "| ``float64``   | Double precision float: sign bit, 11 bits exponent, 52 bits mantissa| \n",
    "| ``complex_``  | Shorthand for ``complex128``.| \n",
    "| ``complex64`` | Complex number, represented by two 32-bit floats| \n",
    "| ``complex128``| Complex number, represented by two 64-bit floats| \n",
    "\n",
    "Source: Jake VanderPlas (2016), Python Data Science Handbook Essential Tools for Working with Data, O'Reilly Media."
   ]
  },
  {
   "cell_type": "markdown",
   "metadata": {},
   "source": [
    "**Exercise:** Explore the commands `np.zeros`, `np.ones`, `np.full` as follows:\n",
    "\n",
    "- instantiate a `(2, 3, 4)` array with each of the commands\n",
    "- select element `[0, 0, 2]` for each object and set its value to `100`\n",
    "- print each object.\n"
   ]
  },
  {
   "cell_type": "code",
   "execution_count": null,
   "metadata": {},
   "outputs": [],
   "source": [
    "A = np.zeros(shape=(2, 3, 4))\n",
    "B = np.ones(shape=(2, 3, 4))\n",
    "C = np.full((2, 3, 4), 4) # different syntax for full\n",
    "\n",
    "for x in [A, B, C]:\n",
    "    x[0,0,2] = 100\n",
    "\n",
    "# extra bit of python syntax:\n",
    "# \"abc\" * 10 produces a string which repeats \"abc\" 10 times.\n",
    "print(A, \"\\n \", \"-\" * 70,  \"\\n\",  B, \"\\n \", \"-\" * 70,  \"\\n\", C) "
   ]
  },
  {
   "cell_type": "markdown",
   "metadata": {},
   "source": [
    "Arrays have *methods* and *attributes* associated with them. An attribute is `dtype`, another attribute is `shape`. We will cover *methods* below."
   ]
  },
  {
   "cell_type": "code",
   "execution_count": null,
   "metadata": {},
   "outputs": [],
   "source": [
    "print(A.dtype, \"\\n\", A.shape, sep=\"\")"
   ]
  },
  {
   "cell_type": "markdown",
   "metadata": {},
   "source": [
    "The command `np.empty` instantiates an empty array, the command `np.empty_like` instantiates *some* array which has the same dimension and data type as a given array. Empty arrays are computationally less wasteful to produce than e.g. `np.zeros`, if one replaces the elements in some process anyways. The print function called on an empty array produces mostly garbage, don't worry about this.\n",
    "\n",
    "The following two are equivalent: `np.empty(shape = A.shape)` and `np.empty_like(A)`"
   ]
  },
  {
   "cell_type": "code",
   "execution_count": null,
   "metadata": {},
   "outputs": [],
   "source": [
    "print(np.empty(shape = A.shape).dtype)\n",
    "print(np.empty_like(A).shape)\n",
    "print(np.empty((2, 3)))"
   ]
  },
  {
   "cell_type": "markdown",
   "metadata": {},
   "source": [
    "### Array Indexing\n",
    "Indexing arrays is easy and best done by example. We can select elements by regular indexing and Boolean indexing:"
   ]
  },
  {
   "cell_type": "code",
   "execution_count": null,
   "metadata": {},
   "outputs": [],
   "source": [
    "A = np.matrix([[1, 2, 3], [4, 5, 6]]) # a matrix is basically a (n,m)-array\n",
    "print(A)\n",
    "\n",
    "# indexing\n",
    "A[1,0] = A[1,0]*10 # multiply element [0,1] by 10\n",
    "print(A)\n",
    "\n",
    "# boolean mask\n",
    "A[A < 3.2] = 0 # replace all elements < 3.2 by 0\n",
    "print(A)"
   ]
  },
  {
   "cell_type": "markdown",
   "metadata": {},
   "source": [
    "Note that above we created a `np.matrix`, which is in many ways similar to a numpy array. However, it has some methods associated with it which are specific for linear algebra. Additionally, some operators are interpreted differently. The asterisk `*` defines element-wise multiplication for arrays, but always refers to matrix-multiplication for matrices. Furthermore, when making a boolean comparison where only matrices are involved, the returned object will be a _boolean matrix_ and also have matrix operations associated to it."
   ]
  },
  {
   "cell_type": "markdown",
   "metadata": {},
   "source": [
    "Note that the Boolean comparison is done element-wise on the elements of the matrix (here, `A`):"
   ]
  },
  {
   "cell_type": "code",
   "execution_count": null,
   "metadata": {},
   "outputs": [],
   "source": [
    "A > 10"
   ]
  },
  {
   "cell_type": "markdown",
   "metadata": {},
   "source": [
    "Finally, we consider the difference between *views* and *copies*:\n",
    "\n",
    "If we want to obtain a true copy of some array `A`, we need to enclose it in `np.copy`. Otherwise, we will obtain a view, which if called links back to the original object `A`."
   ]
  },
  {
   "cell_type": "code",
   "execution_count": null,
   "metadata": {},
   "outputs": [],
   "source": [
    "A_copy = np.copy(A) # use the copy function to make A_copy, which DOES NOT change if we change A\n",
    "\n",
    "# however, this LHS variable will 'point' to the elements of A_copy\n",
    "# if we change stuff in A_copy[0,:], then the_first_row_of_A_copy changes\n",
    "the_first_row_of_A_copy = A_copy[0,:] \n",
    "print(the_first_row_of_A_copy)\n",
    "\n",
    "A_copy[0,:] = np.arange(1, 4, 1) # np.arange(start, end, step) creates a sequence from start to (excluding) end, in 'step'-size\n",
    "print(the_first_row_of_A_copy)\n"
   ]
  },
  {
   "cell_type": "markdown",
   "metadata": {},
   "source": [
    "We can slice arrays in any dimensions using the usual `i:j:k` syntax: select every `k`th element from `i` to `j`.\n",
    "\n",
    "**Exercise:** \n",
    "- Write a function `make_shift_mat` which takes a number $n$ and outputs the $n$ by $n$ *shift matrix* \n",
    "  \n",
    "$$\n",
    "\\begin{align*}\n",
    "S_n =  \\begin{pmatrix}\n",
    "0 & 1 & 0 & \\cdots & 0 \\\\\n",
    "0 & 0 & 1 & \\cdots & 0 \\\\\n",
    "\\vdots & \\vdots & \\vdots & \\ddots & \\vdots \\\\\n",
    "0 & 0 & 0 & \\cdots & 1 \\\\\n",
    "0 & 0 & 0 & \\cdots & 0\n",
    "\\end{pmatrix}\n",
    "\\end{align*}\n",
    "$$\n",
    "\n",
    "- Create another function `make_nilpotent_mat` which takes as argument a list of integers `[n_1, n_2, ..., n_m]` and outputs the a matrix which has $S_{n_1}, ..., S_{n_m}$ on the diagonal and is $0$ in all other entries.\n",
    "- Then create a function `get_np_index` which takes in a nilpotent matrix $N$ and calculates the (least) $k$, for which $N^k = \\mathbf{0}$ (the zero matrix)\n",
    "\n",
    "*HINT: To calculate a matrix product of two arrays `A, B` of conforming dimension, use `A@B`.*"
   ]
  },
  {
   "cell_type": "markdown",
   "metadata": {},
   "source": [
    "**Solution:**"
   ]
  },
  {
   "cell_type": "code",
   "execution_count": null,
   "metadata": {},
   "outputs": [],
   "source": [
    "# a solution with a loop\n",
    "def make_shift_mat(n):\n",
    "    A = np.zeros([n,n])\n",
    "    for i in range(n-1):\n",
    "        A[i,i+1] = 1\n",
    "    return A\n",
    "\n",
    "# an alternative way with slicing\n",
    "def make_shift_mat(n):\n",
    "    A = np.zeros((n,n))\n",
    "    A[np.arange(n-1), np.arange(1,n)] = 1\n",
    "    \n",
    "    return A\n",
    "\n",
    "make_shift_mat(8)\n",
    "\n",
    "def make_nilpotent_mat(dim_list): \n",
    "    B = np.zeros((sum(dim_list),sum(dim_list)))\n",
    "    start = 0\n",
    "    for n in dim_list:\n",
    "        end = start + n\n",
    "        B[start:end, start:end] = make_shift_mat(n)\n",
    "        start += n\n",
    "    return B\n",
    "\n",
    "\n",
    "def get_np_index(M, max_iter=10_000):\n",
    "    M_copy = M.copy()\n",
    "    counter = 0\n",
    "    while not np.all(M_copy == 0):\n",
    "        counter += 1\n",
    "        M_copy = M_copy @ M\n",
    "\n",
    "        if counter >= max_iter:\n",
    "            print(\"NO NILPINDEX FOUND\")\n",
    "            return None      \n",
    "\n",
    "    print(\"NILPINDEX\", counter+2)\n",
    "    return counter+2\n",
    "\n",
    "\n",
    "def get_np_index(M, max_iter=10_000):\n",
    "    M_copy = M.copy()\n",
    "    \n",
    "    for i in range(max_iter):\n",
    "        \n",
    "        M_copy = M_copy @ M\n",
    "\n",
    "        if np.all(M_copy == 0):    \n",
    "            print(\"NILPINDEX\", i+2)\n",
    "            return i+2\n",
    "\n",
    "    print(\"NO NILPINDEX FOUND\")\n",
    "    return None      \n",
    "\n",
    "\n",
    "M = make_nilpotent_mat([6, 2, 5])\n",
    "\n",
    "get_np_index(M)\n",
    "# check that it works\n",
    "M @ M @ M @ M @ M @ M "
   ]
  },
  {
   "cell_type": "markdown",
   "metadata": {},
   "source": [
    "### Functions to Make Arrays \n",
    "Numpy has a few handy built-in methods to create arrays of different kinds. `np.ones` and `np.zeros` are such. Now we look at two more: `np.linspace` and `np.logspace`. "
   ]
  },
  {
   "cell_type": "code",
   "execution_count": null,
   "metadata": {},
   "outputs": [],
   "source": [
    "np.linspace(start=0., stop=100, num=20) # create a grid from 0 to 100 with 20 grid points\n",
    "np.logspace(start=np.log(1), stop=np.log(100), num=20, base = np.e) # create a grid from 0 to 100 with 20 grid points but in logs\n",
    "\n",
    "# the latter is equivalent to \n",
    "lower = np.log(1) # np.log( . ) is the natural logarithm\n",
    "upper = np.log(100)\n",
    "np.exp(np.linspace(lower, upper, 20)) # use broadcasting here, see next section\n"
   ]
  },
  {
   "cell_type": "markdown",
   "metadata": {},
   "source": [
    "The function `np.arange` is very similar to the native `range()` function:"
   ]
  },
  {
   "cell_type": "code",
   "execution_count": null,
   "metadata": {},
   "outputs": [],
   "source": [
    "np.arange(start=1, stop=20, step=3)"
   ]
  },
  {
   "cell_type": "markdown",
   "metadata": {},
   "source": [
    "## 2. **Computations and Broadcasting**\n",
    "One can do pretty much all basic computations on `np.array`s and these will be applied elementwise. (These computations are also called *vectorized* functions.) \n",
    "\n",
    "Let's also consider some functions coming with numpy: `np.exp, np.log, np.abs`."
   ]
  },
  {
   "cell_type": "code",
   "execution_count": null,
   "metadata": {},
   "outputs": [],
   "source": [
    "a = np.arange(1,10,2)\n",
    "print(a)\n",
    "\n",
    "# multiplication / addition with a scalar\n",
    "print(a * 10)\n",
    "print(a + 10)\n",
    "\n",
    "# exponential function, log function\n",
    "print(np.exp(a))\n",
    "print(np.log(a))\n",
    "\n",
    "b = np.array([-1,0,1])\n",
    "print(np.abs(b))"
   ]
  },
  {
   "cell_type": "markdown",
   "metadata": {},
   "source": [
    "We can add two `np.array`s together element-wise in the obvious fashion. This is called 'broadcasting'. My advice: While useful, try to avoid situations in which non-obvious broadcasting things can happen.\n",
    "\n",
    "Instead of addition, we can perform above computations with multiplication `*` or exponentiation `**`, too.\n",
    "\n",
    "An interesting way to leverage broadcasting is to use `np.newaxis`, which creates an additional yet empty dimension to an array. For example, let `a = np.array([1, 2, 3])`. Then `a[:, np.newaxis]` has shape `(3, 1)` and `a[np.newaxis, :]` has shape `(1, 3)`. What does the following broadcasting procedure yield: `B = a[np.newaxis, :] + a[:, np.newaxis] `?\n",
    "\n",
    "Think it through. If you repeat `a[np.newaxis, :]` on the second axis you get a `(3,3)` array. Same if you repeat `a[:, np.newaxis]` thrice on the first axis. Then, you add the two resulting matrices elementwise. That's basically an outer product!"
   ]
  },
  {
   "cell_type": "code",
   "execution_count": null,
   "metadata": {},
   "outputs": [],
   "source": [
    "a = np.array([1, 2, 3])\n",
    "\n",
    "print(a**2, \"\\n\")\n",
    "\n",
    "print(a[:, np.newaxis].shape, \"\\n\")\n",
    "\n",
    "print(a[np.newaxis, :] + a[:, np.newaxis], \"\\n\")\n",
    "\n",
    "print(a[np.newaxis, :] ** a[:, np.newaxis])"
   ]
  },
  {
   "cell_type": "markdown",
   "metadata": {},
   "source": [
    "**Rules of Broadcasting**\n",
    "\n",
    "Now we have seen Broadcasting in action, let's consider the rules that NumPy us using to determine how it operates on two arrays:\n",
    "\n",
    "* *Rule 1*: If the two arrays differ in their number of dimensions, the shape of the one with fewer dimensions is padded with ones on its leading (left) side.\n",
    "* *Rule 2*: If the shape of the two arrays does not match in any dimension, the array with shape equal to 1 in that dimension is stretched to match the other shape.\n",
    "* *Rule 3*: If in any dimension the sizes disagree and neither is equal to 1, an error is raised.\n",
    "\n",
    "Consider an operation on `matrix` and `array`. The shape of each is:\n",
    "\n",
    "- ``matrix.shape = (2, 3)``\n",
    "- ``array.shape = (3,)``\n",
    "\n",
    "Rule 1 tells us that ``array`` has fewer dimensions, so we pad it on the left with ones:\n",
    "\n",
    "- ``matrix.shape -> (2, 3)``\n",
    "- ``array.shape -> (1, 3)``\n",
    "\n",
    "Rule 2, tells us the first dimension disagrees, so we stretch itnsion to match:\n",
    "\n",
    "- ``matrix.shape -> (2, 3)``\n",
    "- ``array.shape -> (2, 3)``\n",
    "\n",
    "Now the shapes match, and we see the output of a ufunc operation will be ``(2, 3)``:\n",
    "\n",
    "*(Source PP4RS, 2023)*\n",
    "\n",
    "Above, we have seen *rule 2* in action. Now look at *rule 1*:"
   ]
  },
  {
   "cell_type": "code",
   "execution_count": null,
   "metadata": {},
   "outputs": [],
   "source": [
    "# Example of padding\n",
    "\n",
    "a = np.matrix([2, 2, 2])\n",
    "b = np.array([1, 2, 3])\n",
    "\n",
    "print(a.shape, b.shape) # look at the shape of array and matrix\n",
    "\n",
    "(a + 0 * b).shape # look at the shape of the broadcasted result"
   ]
  },
  {
   "cell_type": "markdown",
   "metadata": {},
   "source": [
    "### Array Methods\n",
    "We spent a minute on useful methods (=functions) associated with `numpy` objects. First, we create an array. Then we `reshape`the array. Then we consider some `sum`, `max`, `min`, `mean` commands."
   ]
  },
  {
   "cell_type": "code",
   "execution_count": null,
   "metadata": {},
   "outputs": [],
   "source": [
    "a = np.arange(1, 100, 3.1234) \n",
    "\n",
    "print(a.shape) # well, lets make this a (4, 8) array. \n",
    "# the reshape method will first fill up the columns, for row 1, then for row 2, etc until all rows are filled\n",
    "# an analogous reshaping occurs when looping through multiple dimensions.\n",
    "\n",
    "a = np.reshape(a, (4, 8))\n",
    "print(a.shape)\n",
    "\n",
    "# global max\n",
    "print(a.max())\n",
    "\n",
    "# row max: take max over the first dimension\n",
    "print(a.max(axis=0))\n",
    "\n",
    "# column min: take min over the second dimension\n",
    "print(a.min(axis=1))\n",
    "\n",
    "# the mean and sum methods work completely analogously."
   ]
  },
  {
   "cell_type": "markdown",
   "metadata": {},
   "source": [
    "Note: instead of using `np.copy(a)`, we can always write `a.copy()` since `copy()` is a method of the numpy object."
   ]
  },
  {
   "cell_type": "markdown",
   "metadata": {},
   "source": [
    "### Matrix Computations\n",
    "Of course we can use matrix algebra with `numpy`."
   ]
  },
  {
   "cell_type": "code",
   "execution_count": null,
   "metadata": {},
   "outputs": [],
   "source": [
    "# transpose of A\n",
    "A.transpose()\n",
    "\n",
    "# multiply A to A'\n",
    "A @ A.transpose()\n",
    "\n",
    "np.dot(A, A.transpose()) # alternatively, use np.dot instead of @\n"
   ]
  },
  {
   "cell_type": "markdown",
   "metadata": {},
   "source": [
    "## 3. **The `np.random` Module**"
   ]
  },
  {
   "cell_type": "markdown",
   "metadata": {},
   "source": [
    "The `np.random` module is a collection of functions able to generate random variables and fill array with those. For instance, `np.random.uniform` generates samples drawn from the uniform distribution. Can you guess what `np.random.randint` will give us?"
   ]
  },
  {
   "cell_type": "code",
   "execution_count": null,
   "metadata": {},
   "outputs": [],
   "source": [
    "u = np.random.uniform(low=0, high=1, size=100)\n",
    "\n",
    "# random matrix\n",
    "u = u.reshape(10,10)\n",
    "\n",
    "# random matrix with integers\n",
    "u_int = np.random.randint(low=0, high=101, size=100).reshape(10,10)"
   ]
  },
  {
   "cell_type": "markdown",
   "metadata": {},
   "source": [
    "**Exercise:**\n",
    "\n",
    "Write the function `demean` which takes two inputs, a numpy array `A` and `axis` defaulting to `None`. If `axis` is equal to the default, the function calculate the mean across all elements of `A` and subtract this mean from each element. If `axis = i`, then the function calculates the means of `A` along that axis and only demeans in this direction. For example, it calculates $a_{i, j, k, l} - \\bar a_{i, j, \\cdot, l}$ if `axis = 2`. (This means the third dimension is used to calculate means.)"
   ]
  },
  {
   "cell_type": "code",
   "execution_count": null,
   "metadata": {},
   "outputs": [],
   "source": [
    "def demean(A, axis=None):\n",
    "    A_mean = A.mean(axis=axis, keepdims = True)\n",
    "    return A - A_mean # broadcasting rule 2 is our friend here\n",
    "\n",
    "demean(A, axis=1) "
   ]
  },
  {
   "cell_type": "markdown",
   "metadata": {},
   "source": [
    "## 4. **Other Exercises**"
   ]
  },
  {
   "cell_type": "markdown",
   "metadata": {},
   "source": [
    "**Exercise: Discretizing the asset space**\n",
    "\n",
    "Consider the situation in which we want to create an asset grid for the households in your favorite macro-model. Households choose assets from $[\\underline a, \\infty)$, need to discretize this grid. Idea: there should be more grid points around $\\underline a$, because policy function is more nonlinear here. But we also want some points for high $a$. Solution: *double exponential transformation of uniformly spaced grid*:\n",
    "\n",
    "$$a_i = \\underline a + e^{e^{u_i} - 1} - 1, u_i \\in [0, \\bar u]$$\n",
    "\n",
    "Write a function `discretize_assets(amin, amax, n_a)` which outputs an asset grid ranging from `a_min` to `a_max` with `n_a` grid points, where $a_i$ is determined by the formula above."
   ]
  },
  {
   "cell_type": "code",
   "execution_count": null,
   "metadata": {},
   "outputs": [],
   "source": [
    "# SOLUTION:\n",
    "\n",
    "# write a function which discretizes the asset space\n",
    "def discretize_assets(amin, amax, n_a):\n",
    "    # find ubar \n",
    "    ubar = np.log(np.log(amax - amin + 1)+1)\n",
    "    # make linar grid for the u's\n",
    "    grid_u = np.linspace(0,ubar, n_a)\n",
    "    # transform back to a\n",
    "    grid_a = amin + np.exp(np.exp(grid_u)-1)-1\n",
    "    return grid_a\n",
    "\n",
    "grid_a = discretize_assets(0, 10_000, 50)\n",
    "\n",
    "# visualize the grid\n",
    "import matplotlib.pyplot as plt\n",
    "# some useful plot defaults\n",
    "plt.rcParams.update({'font.size' : 10, 'lines.linewidth' : 1.5, 'figure.figsize' : (4,3)})\n",
    "# scatter plot of the grid\n",
    "plt.scatter(grid_a, np.repeat(1, len(grid_a)), marker='|')"
   ]
  }
 ],
 "metadata": {
  "kernelspec": {
   "display_name": "pp4rs",
   "language": "python",
   "name": "python3"
  },
  "language_info": {
   "codemirror_mode": {
    "name": "ipython",
    "version": 3
   },
   "file_extension": ".py",
   "mimetype": "text/x-python",
   "name": "python",
   "nbconvert_exporter": "python",
   "pygments_lexer": "ipython3",
   "version": "3.10.11"
  }
 },
 "nbformat": 4,
 "nbformat_minor": 2
}
